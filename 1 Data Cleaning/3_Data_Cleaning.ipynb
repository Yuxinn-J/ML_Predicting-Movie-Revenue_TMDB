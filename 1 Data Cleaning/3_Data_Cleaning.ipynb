{
 "cells": [
  {
   "cell_type": "markdown",
   "metadata": {},
   "source": [
    "# Data Cleaning\n",
    "\n",
    "---\n",
    "### Essential Libraries"
   ]
  },
  {
   "cell_type": "code",
   "execution_count": 1,
   "metadata": {},
   "outputs": [],
   "source": [
    "# Basic Libraries\n",
    "import pandas as pd\n",
    "import numpy as np\n",
    "import seaborn as sb\n",
    "import matplotlib.pyplot as plt \n",
    "%matplotlib inline\n",
    "import json "
   ]
  },
  {
   "cell_type": "markdown",
   "metadata": {},
   "source": [
    "---\n",
    "### Import the Dataset"
   ]
  },
  {
   "cell_type": "code",
   "execution_count": 2,
   "metadata": {},
   "outputs": [
    {
     "data": {
      "text/html": [
       "<div>\n",
       "<style scoped>\n",
       "    .dataframe tbody tr th:only-of-type {\n",
       "        vertical-align: middle;\n",
       "    }\n",
       "\n",
       "    .dataframe tbody tr th {\n",
       "        vertical-align: top;\n",
       "    }\n",
       "\n",
       "    .dataframe thead th {\n",
       "        text-align: right;\n",
       "    }\n",
       "</style>\n",
       "<table border=\"1\" class=\"dataframe\">\n",
       "  <thead>\n",
       "    <tr style=\"text-align: right;\">\n",
       "      <th></th>\n",
       "      <th>id</th>\n",
       "      <th>imdb_id</th>\n",
       "      <th>adult</th>\n",
       "      <th>belongs_to_collection</th>\n",
       "      <th>budget</th>\n",
       "      <th>genres</th>\n",
       "      <th>original_language</th>\n",
       "      <th>original_title</th>\n",
       "      <th>overview</th>\n",
       "      <th>popularity</th>\n",
       "      <th>production_companies</th>\n",
       "      <th>production_countries</th>\n",
       "      <th>release_date</th>\n",
       "      <th>revenue</th>\n",
       "      <th>runtime</th>\n",
       "      <th>spoken_languages</th>\n",
       "      <th>status</th>\n",
       "      <th>title</th>\n",
       "      <th>video</th>\n",
       "      <th>vote_average</th>\n",
       "      <th>vote_count</th>\n",
       "    </tr>\n",
       "  </thead>\n",
       "  <tbody>\n",
       "    <tr>\n",
       "      <th>0</th>\n",
       "      <td>100</td>\n",
       "      <td>tt0120735</td>\n",
       "      <td>False</td>\n",
       "      <td>NaN</td>\n",
       "      <td>1350000</td>\n",
       "      <td>[{'id': 35, 'name': 'Comedy'}, {'id': 80, 'nam...</td>\n",
       "      <td>en</td>\n",
       "      <td>Lock, Stock and Two Smoking Barrels</td>\n",
       "      <td>A card shark and his unwillingly-enlisted frie...</td>\n",
       "      <td>8.871</td>\n",
       "      <td>[{'id': 491, 'logo_path': '/rUp0lLKa1pr4UsPm8f...</td>\n",
       "      <td>[{'iso_3166_1': 'GB', 'name': 'United Kingdom'}]</td>\n",
       "      <td>5/3/1998</td>\n",
       "      <td>28356188.0</td>\n",
       "      <td>105.0</td>\n",
       "      <td>[{'english_name': 'English', 'iso_639_1': 'en'...</td>\n",
       "      <td>Released</td>\n",
       "      <td>Lock, Stock and Two Smoking Barrels</td>\n",
       "      <td>False</td>\n",
       "      <td>8.2</td>\n",
       "      <td>4722.0</td>\n",
       "    </tr>\n",
       "    <tr>\n",
       "      <th>1</th>\n",
       "      <td>101</td>\n",
       "      <td>tt0110413</td>\n",
       "      <td>False</td>\n",
       "      <td>NaN</td>\n",
       "      <td>16000000</td>\n",
       "      <td>[{'id': 80, 'name': 'Crime'}, {'id': 18, 'name...</td>\n",
       "      <td>en</td>\n",
       "      <td>L??on: The Professional</td>\n",
       "      <td>L??on, the top hit man in New York, has earned...</td>\n",
       "      <td>34.591</td>\n",
       "      <td>[{'id': 9, 'logo_path': '/nda3dTUYdDrJ6rZqBpYv...</td>\n",
       "      <td>[{'iso_3166_1': 'FR', 'name': 'France'}, {'iso...</td>\n",
       "      <td>14/9/1994</td>\n",
       "      <td>45284974.0</td>\n",
       "      <td>111.0</td>\n",
       "      <td>[{'english_name': 'English', 'iso_639_1': 'en'...</td>\n",
       "      <td>Released</td>\n",
       "      <td>L??on: The Professional</td>\n",
       "      <td>False</td>\n",
       "      <td>8.3</td>\n",
       "      <td>10702.0</td>\n",
       "    </tr>\n",
       "    <tr>\n",
       "      <th>2</th>\n",
       "      <td>102</td>\n",
       "      <td>tt0315543</td>\n",
       "      <td>False</td>\n",
       "      <td>NaN</td>\n",
       "      <td>0</td>\n",
       "      <td>[{'id': 18, 'name': 'Drama'}, {'id': 10749, 'n...</td>\n",
       "      <td>da</td>\n",
       "      <td>Elsker dig for evigt</td>\n",
       "      <td>Cecilie and Joachim are about to get married w...</td>\n",
       "      <td>4.262</td>\n",
       "      <td>[{'id': 76, 'logo_path': None, 'name': 'Zentro...</td>\n",
       "      <td>[{'iso_3166_1': 'DK', 'name': 'Denmark'}]</td>\n",
       "      <td>6/9/2002</td>\n",
       "      <td>0.0</td>\n",
       "      <td>113.0</td>\n",
       "      <td>[{'english_name': 'Danish', 'iso_639_1': 'da',...</td>\n",
       "      <td>Released</td>\n",
       "      <td>Open Hearts</td>\n",
       "      <td>False</td>\n",
       "      <td>7.1</td>\n",
       "      <td>61.0</td>\n",
       "    </tr>\n",
       "    <tr>\n",
       "      <th>3</th>\n",
       "      <td>103</td>\n",
       "      <td>tt0075314</td>\n",
       "      <td>False</td>\n",
       "      <td>NaN</td>\n",
       "      <td>1300000</td>\n",
       "      <td>[{'id': 80, 'name': 'Crime'}, {'id': 18, 'name...</td>\n",
       "      <td>en</td>\n",
       "      <td>Taxi Driver</td>\n",
       "      <td>A mentally unstable Vietnam War veteran works ...</td>\n",
       "      <td>28.735</td>\n",
       "      <td>[{'id': 46059, 'logo_path': None, 'name': 'Ita...</td>\n",
       "      <td>[{'iso_3166_1': 'US', 'name': 'United States o...</td>\n",
       "      <td>9/2/1976</td>\n",
       "      <td>28262574.0</td>\n",
       "      <td>114.0</td>\n",
       "      <td>[{'english_name': 'English', 'iso_639_1': 'en'...</td>\n",
       "      <td>Released</td>\n",
       "      <td>Taxi Driver</td>\n",
       "      <td>False</td>\n",
       "      <td>8.2</td>\n",
       "      <td>7973.0</td>\n",
       "    </tr>\n",
       "    <tr>\n",
       "      <th>4</th>\n",
       "      <td>104</td>\n",
       "      <td>tt0130827</td>\n",
       "      <td>False</td>\n",
       "      <td>NaN</td>\n",
       "      <td>1530000</td>\n",
       "      <td>[{'id': 28, 'name': 'Action'}, {'id': 18, 'nam...</td>\n",
       "      <td>de</td>\n",
       "      <td>Lola rennt</td>\n",
       "      <td>Lola receives a phone call from her boyfriend ...</td>\n",
       "      <td>10.156</td>\n",
       "      <td>[{'id': 96, 'logo_path': '/9ps82gVzUeNdkjmLzoG...</td>\n",
       "      <td>[{'iso_3166_1': 'DE', 'name': 'Germany'}]</td>\n",
       "      <td>3/3/1998</td>\n",
       "      <td>7267585.0</td>\n",
       "      <td>81.0</td>\n",
       "      <td>[{'english_name': 'German', 'iso_639_1': 'de',...</td>\n",
       "      <td>Released</td>\n",
       "      <td>Run Lola Run</td>\n",
       "      <td>False</td>\n",
       "      <td>7.3</td>\n",
       "      <td>1485.0</td>\n",
       "    </tr>\n",
       "  </tbody>\n",
       "</table>\n",
       "</div>"
      ],
      "text/plain": [
       "    id    imdb_id  adult belongs_to_collection    budget  \\\n",
       "0  100  tt0120735  False                   NaN   1350000   \n",
       "1  101  tt0110413  False                   NaN  16000000   \n",
       "2  102  tt0315543  False                   NaN         0   \n",
       "3  103  tt0075314  False                   NaN   1300000   \n",
       "4  104  tt0130827  False                   NaN   1530000   \n",
       "\n",
       "                                              genres original_language  \\\n",
       "0  [{'id': 35, 'name': 'Comedy'}, {'id': 80, 'nam...                en   \n",
       "1  [{'id': 80, 'name': 'Crime'}, {'id': 18, 'name...                en   \n",
       "2  [{'id': 18, 'name': 'Drama'}, {'id': 10749, 'n...                da   \n",
       "3  [{'id': 80, 'name': 'Crime'}, {'id': 18, 'name...                en   \n",
       "4  [{'id': 28, 'name': 'Action'}, {'id': 18, 'nam...                de   \n",
       "\n",
       "                        original_title  \\\n",
       "0  Lock, Stock and Two Smoking Barrels   \n",
       "1              L??on: The Professional   \n",
       "2                 Elsker dig for evigt   \n",
       "3                          Taxi Driver   \n",
       "4                           Lola rennt   \n",
       "\n",
       "                                            overview  popularity  \\\n",
       "0  A card shark and his unwillingly-enlisted frie...       8.871   \n",
       "1  L??on, the top hit man in New York, has earned...      34.591   \n",
       "2  Cecilie and Joachim are about to get married w...       4.262   \n",
       "3  A mentally unstable Vietnam War veteran works ...      28.735   \n",
       "4  Lola receives a phone call from her boyfriend ...      10.156   \n",
       "\n",
       "                                production_companies  \\\n",
       "0  [{'id': 491, 'logo_path': '/rUp0lLKa1pr4UsPm8f...   \n",
       "1  [{'id': 9, 'logo_path': '/nda3dTUYdDrJ6rZqBpYv...   \n",
       "2  [{'id': 76, 'logo_path': None, 'name': 'Zentro...   \n",
       "3  [{'id': 46059, 'logo_path': None, 'name': 'Ita...   \n",
       "4  [{'id': 96, 'logo_path': '/9ps82gVzUeNdkjmLzoG...   \n",
       "\n",
       "                                production_countries release_date     revenue  \\\n",
       "0   [{'iso_3166_1': 'GB', 'name': 'United Kingdom'}]     5/3/1998  28356188.0   \n",
       "1  [{'iso_3166_1': 'FR', 'name': 'France'}, {'iso...    14/9/1994  45284974.0   \n",
       "2          [{'iso_3166_1': 'DK', 'name': 'Denmark'}]     6/9/2002         0.0   \n",
       "3  [{'iso_3166_1': 'US', 'name': 'United States o...     9/2/1976  28262574.0   \n",
       "4          [{'iso_3166_1': 'DE', 'name': 'Germany'}]     3/3/1998   7267585.0   \n",
       "\n",
       "   runtime                                   spoken_languages    status  \\\n",
       "0    105.0  [{'english_name': 'English', 'iso_639_1': 'en'...  Released   \n",
       "1    111.0  [{'english_name': 'English', 'iso_639_1': 'en'...  Released   \n",
       "2    113.0  [{'english_name': 'Danish', 'iso_639_1': 'da',...  Released   \n",
       "3    114.0  [{'english_name': 'English', 'iso_639_1': 'en'...  Released   \n",
       "4     81.0  [{'english_name': 'German', 'iso_639_1': 'de',...  Released   \n",
       "\n",
       "                                 title  video  vote_average  vote_count  \n",
       "0  Lock, Stock and Two Smoking Barrels  False           8.2      4722.0  \n",
       "1              L??on: The Professional  False           8.3     10702.0  \n",
       "2                          Open Hearts  False           7.1        61.0  \n",
       "3                          Taxi Driver  False           8.2      7973.0  \n",
       "4                         Run Lola Run  False           7.3      1485.0  "
      ]
     },
     "execution_count": 2,
     "metadata": {},
     "output_type": "execute_result"
    }
   ],
   "source": [
    "def trim(dataset):\n",
    "    '''Trim whitespace from ends of each values across all series in dataframe'''\n",
    "    trim = lambda x: x.strip() if type(x) is str else x\n",
    "    return dataset.applymap(trim)\n",
    "\n",
    "# Display all column names\n",
    "pd.set_option('display.max_columns', None)\n",
    "\n",
    "raw_data = trim(pd.read_csv('data/raw_data.csv'))\n",
    "raw_data.head()"
   ]
  },
  {
   "cell_type": "code",
   "execution_count": 3,
   "metadata": {},
   "outputs": [
    {
     "name": "stdout",
     "output_type": "stream",
     "text": [
      "<class 'pandas.core.frame.DataFrame'>\n",
      "RangeIndex: 18315 entries, 0 to 18314\n",
      "Data columns (total 21 columns):\n",
      " #   Column                 Non-Null Count  Dtype  \n",
      "---  ------                 --------------  -----  \n",
      " 0   id                     18315 non-null  int64  \n",
      " 1   imdb_id                13226 non-null  object \n",
      " 2   adult                  13512 non-null  object \n",
      " 3   belongs_to_collection  2764 non-null   object \n",
      " 4   budget                 18315 non-null  int64  \n",
      " 5   genres                 18315 non-null  object \n",
      " 6   original_language      18315 non-null  object \n",
      " 7   original_title         18315 non-null  object \n",
      " 8   overview               13650 non-null  object \n",
      " 9   popularity             18314 non-null  float64\n",
      " 10  production_companies   18314 non-null  object \n",
      " 11  production_countries   18314 non-null  object \n",
      " 12  release_date           18306 non-null  object \n",
      " 13  revenue                18314 non-null  float64\n",
      " 14  runtime                18289 non-null  float64\n",
      " 15  spoken_languages       18314 non-null  object \n",
      " 16  status                 18314 non-null  object \n",
      " 17  title                  18314 non-null  object \n",
      " 18  video                  13511 non-null  object \n",
      " 19  vote_average           18314 non-null  float64\n",
      " 20  vote_count             18314 non-null  float64\n",
      "dtypes: float64(5), int64(2), object(14)\n",
      "memory usage: 2.9+ MB\n"
     ]
    }
   ],
   "source": [
    "# Inforamtion about the Variables\n",
    "raw_data.info()"
   ]
  },
  {
   "cell_type": "code",
   "execution_count": 4,
   "metadata": {},
   "outputs": [
    {
     "data": {
      "text/html": [
       "<div>\n",
       "<style scoped>\n",
       "    .dataframe tbody tr th:only-of-type {\n",
       "        vertical-align: middle;\n",
       "    }\n",
       "\n",
       "    .dataframe tbody tr th {\n",
       "        vertical-align: top;\n",
       "    }\n",
       "\n",
       "    .dataframe thead th {\n",
       "        text-align: right;\n",
       "    }\n",
       "</style>\n",
       "<table border=\"1\" class=\"dataframe\">\n",
       "  <thead>\n",
       "    <tr style=\"text-align: right;\">\n",
       "      <th></th>\n",
       "      <th>id</th>\n",
       "      <th>budget</th>\n",
       "      <th>popularity</th>\n",
       "      <th>revenue</th>\n",
       "      <th>runtime</th>\n",
       "      <th>vote_average</th>\n",
       "      <th>vote_count</th>\n",
       "    </tr>\n",
       "  </thead>\n",
       "  <tbody>\n",
       "    <tr>\n",
       "      <th>count</th>\n",
       "      <td>18315.000000</td>\n",
       "      <td>1.831500e+04</td>\n",
       "      <td>18314.000000</td>\n",
       "      <td>1.831400e+04</td>\n",
       "      <td>18289.000000</td>\n",
       "      <td>18314.000000</td>\n",
       "      <td>18314.000000</td>\n",
       "    </tr>\n",
       "    <tr>\n",
       "      <th>mean</th>\n",
       "      <td>51272.995086</td>\n",
       "      <td>2.156098e+07</td>\n",
       "      <td>16.659693</td>\n",
       "      <td>6.502424e+07</td>\n",
       "      <td>103.354311</td>\n",
       "      <td>6.023305</td>\n",
       "      <td>964.792399</td>\n",
       "    </tr>\n",
       "    <tr>\n",
       "      <th>std</th>\n",
       "      <td>120357.920870</td>\n",
       "      <td>3.867065e+07</td>\n",
       "      <td>82.532808</td>\n",
       "      <td>1.500865e+08</td>\n",
       "      <td>27.712592</td>\n",
       "      <td>1.607940</td>\n",
       "      <td>2127.626233</td>\n",
       "    </tr>\n",
       "    <tr>\n",
       "      <th>min</th>\n",
       "      <td>5.000000</td>\n",
       "      <td>0.000000e+00</td>\n",
       "      <td>0.000000</td>\n",
       "      <td>0.000000e+00</td>\n",
       "      <td>0.000000</td>\n",
       "      <td>0.000000</td>\n",
       "      <td>0.000000</td>\n",
       "    </tr>\n",
       "    <tr>\n",
       "      <th>25%</th>\n",
       "      <td>5175.000000</td>\n",
       "      <td>0.000000e+00</td>\n",
       "      <td>4.888000</td>\n",
       "      <td>0.000000e+00</td>\n",
       "      <td>91.000000</td>\n",
       "      <td>5.600000</td>\n",
       "      <td>28.000000</td>\n",
       "    </tr>\n",
       "    <tr>\n",
       "      <th>50%</th>\n",
       "      <td>12158.000000</td>\n",
       "      <td>3.500000e+06</td>\n",
       "      <td>9.707500</td>\n",
       "      <td>6.179282e+06</td>\n",
       "      <td>101.000000</td>\n",
       "      <td>6.300000</td>\n",
       "      <td>173.500000</td>\n",
       "    </tr>\n",
       "    <tr>\n",
       "      <th>75%</th>\n",
       "      <td>19541.500000</td>\n",
       "      <td>2.800000e+07</td>\n",
       "      <td>16.613500</td>\n",
       "      <td>6.336137e+07</td>\n",
       "      <td>115.000000</td>\n",
       "      <td>6.900000</td>\n",
       "      <td>887.000000</td>\n",
       "    </tr>\n",
       "    <tr>\n",
       "      <th>max</th>\n",
       "      <td>816173.000000</td>\n",
       "      <td>9.653130e+08</td>\n",
       "      <td>9975.169000</td>\n",
       "      <td>2.797801e+09</td>\n",
       "      <td>540.000000</td>\n",
       "      <td>10.000000</td>\n",
       "      <td>28790.000000</td>\n",
       "    </tr>\n",
       "  </tbody>\n",
       "</table>\n",
       "</div>"
      ],
      "text/plain": [
       "                  id        budget    popularity       revenue       runtime  \\\n",
       "count   18315.000000  1.831500e+04  18314.000000  1.831400e+04  18289.000000   \n",
       "mean    51272.995086  2.156098e+07     16.659693  6.502424e+07    103.354311   \n",
       "std    120357.920870  3.867065e+07     82.532808  1.500865e+08     27.712592   \n",
       "min         5.000000  0.000000e+00      0.000000  0.000000e+00      0.000000   \n",
       "25%      5175.000000  0.000000e+00      4.888000  0.000000e+00     91.000000   \n",
       "50%     12158.000000  3.500000e+06      9.707500  6.179282e+06    101.000000   \n",
       "75%     19541.500000  2.800000e+07     16.613500  6.336137e+07    115.000000   \n",
       "max    816173.000000  9.653130e+08   9975.169000  2.797801e+09    540.000000   \n",
       "\n",
       "       vote_average    vote_count  \n",
       "count  18314.000000  18314.000000  \n",
       "mean       6.023305    964.792399  \n",
       "std        1.607940   2127.626233  \n",
       "min        0.000000      0.000000  \n",
       "25%        5.600000     28.000000  \n",
       "50%        6.300000    173.500000  \n",
       "75%        6.900000    887.000000  \n",
       "max       10.000000  28790.000000  "
      ]
     },
     "execution_count": 4,
     "metadata": {},
     "output_type": "execute_result"
    }
   ],
   "source": [
    "# describe our data\n",
    "raw_data.describe()"
   ]
  },
  {
   "cell_type": "markdown",
   "metadata": {},
   "source": [
    "---\n",
    "### Remove duplicate rows  based on movie id"
   ]
  },
  {
   "cell_type": "code",
   "execution_count": 5,
   "metadata": {},
   "outputs": [
    {
     "name": "stdout",
     "output_type": "stream",
     "text": [
      "Data dims after removing duplicate value:  (13529, 21)\n"
     ]
    }
   ],
   "source": [
    "raw_data = raw_data.drop_duplicates(subset='id', keep=\"first\")\n",
    "print('Data dims after removing duplicate value: ', raw_data.shape)"
   ]
  },
  {
   "cell_type": "markdown",
   "metadata": {},
   "source": [
    "---\n",
    "### Drop unused columns in the analysis\n",
    "Useless columns ('id', 'imdb_id', 'adult', 'belongs_to_collection', 'original_language', 'original_title', 'overview', 'production_countries', 'spoken_languages', 'video')\n",
    "\n"
   ]
  },
  {
   "cell_type": "code",
   "execution_count": 6,
   "metadata": {},
   "outputs": [],
   "source": [
    "raw_data.drop(['id', 'imdb_id', 'adult', 'belongs_to_collection', 'original_language', \n",
    "               'original_title', 'overview', 'production_countries', 'spoken_languages', 'video'],axis=1,inplace=True)"
   ]
  },
  {
   "cell_type": "markdown",
   "metadata": {},
   "source": [
    "---\n",
    "### Drop columns which have more than 40% data missing"
   ]
  },
  {
   "cell_type": "code",
   "execution_count": 7,
   "metadata": {},
   "outputs": [
    {
     "name": "stdout",
     "output_type": "stream",
     "text": [
      "<class 'pandas.core.frame.DataFrame'>\n",
      "Int64Index: 13529 entries, 0 to 18314\n",
      "Data columns (total 11 columns):\n",
      " #   Column                Non-Null Count  Dtype  \n",
      "---  ------                --------------  -----  \n",
      " 0   budget                13529 non-null  int64  \n",
      " 1   genres                13529 non-null  object \n",
      " 2   popularity            13528 non-null  float64\n",
      " 3   production_companies  13528 non-null  object \n",
      " 4   release_date          13520 non-null  object \n",
      " 5   revenue               13528 non-null  float64\n",
      " 6   runtime               13503 non-null  float64\n",
      " 7   status                13528 non-null  object \n",
      " 8   title                 13528 non-null  object \n",
      " 9   vote_average          13528 non-null  float64\n",
      " 10  vote_count            13528 non-null  float64\n",
      "dtypes: float64(5), int64(1), object(5)\n",
      "memory usage: 1.2+ MB\n"
     ]
    }
   ],
   "source": [
    "def drop_col(df, col_name, cutoff):\n",
    "    n = len(df)\n",
    "    cnt = df[col_name].count()\n",
    "    if(float(cnt) / n) < cutoff:\n",
    "        df.drop(col_name, axis=1, inplace=True)\n",
    "        \n",
    "for column in raw_data.columns:\n",
    "    drop_col(raw_data, column, cutoff=0.6)\n",
    "    \n",
    "\n",
    "raw_data.info()"
   ]
  },
  {
   "cell_type": "markdown",
   "metadata": {},
   "source": [
    "---\n",
    "### Drop rows which contain incorrect or inappropriate values\n",
    "**- zero values in the budget, revenue and runtime columns** (Calculating the profits of these movies would lead to inappropriate results. I think this may be due to varying factors like the lack of information, or the movies that were never released.)"
   ]
  },
  {
   "cell_type": "code",
   "execution_count": 8,
   "metadata": {},
   "outputs": [
    {
     "name": "stdout",
     "output_type": "stream",
     "text": [
      "Rows with zero values in Budget:  7136\n",
      "Rows with zero values in Revenue:  7035\n",
      "Rows with zero values in Runtime:  229\n"
     ]
    }
   ],
   "source": [
    "print(\"Rows with zero values in Budget: \", raw_data[(raw_data['budget']==0)].shape[0])\n",
    "print(\"Rows with zero values in Revenue: \", raw_data[(raw_data['revenue']==0)].shape[0])\n",
    "print(\"Rows with zero values in Runtime: \", raw_data[(raw_data['runtime']==0)].shape[0])\n",
    "\n",
    "# raw_data = raw_data.loc[raw_data['budget'] * raw_data['revenue'] * raw_data['runtime'] != 0]\n",
    "\n",
    "# Another method, which can be easily extended to several columns\n",
    "raw_data = raw_data.loc[(raw_data[['budget', 'revenue', 'runtime']] != 0).all(axis=1)]"
   ]
  },
  {
   "cell_type": "markdown",
   "metadata": {},
   "source": [
    "**- Zero values in the vote_count columns** (Zero vote_count will also lead to a zero vote_average, which would lead to inapproriate results)"
   ]
  },
  {
   "cell_type": "code",
   "execution_count": 9,
   "metadata": {},
   "outputs": [
    {
     "name": "stdout",
     "output_type": "stream",
     "text": [
      "Rows with zero values in Vote_count:  28\n"
     ]
    }
   ],
   "source": [
    "print(\"Rows with zero values in Vote_count: \", raw_data[(raw_data['vote_count']==0)].shape[0])\n",
    "\n",
    "# Another method, which can be easily extended to several columns\n",
    "raw_data = raw_data.loc[(raw_data[['vote_count']] != 0).all(axis=1)]"
   ]
  },
  {
   "cell_type": "markdown",
   "metadata": {},
   "source": [
    "**- Post Production for the status columns**"
   ]
  },
  {
   "cell_type": "code",
   "execution_count": 10,
   "metadata": {},
   "outputs": [
    {
     "name": "stdout",
     "output_type": "stream",
     "text": [
      "Movies under post production:  1\n"
     ]
    }
   ],
   "source": [
    "print(\"Movies under post production: \", raw_data[(raw_data['status']=='Post Production')].shape[0])\n",
    "\n",
    "raw_data = raw_data.loc[raw_data['status'] != 'Post Production']\n",
    "\n",
    "# Drop status columns\n",
    "raw_data.drop(['status'], axis=1, inplace=True)\n",
    "raw_data = raw_data.reset_index(drop=True)"
   ]
  },
  {
   "cell_type": "markdown",
   "metadata": {},
   "source": [
    "---\n",
    "### Convert columns from json to string\n",
    "\n",
    "* json.loads() takes in a string and returns a json object\n",
    "* json.dumps() takes in a json object and returns a string\n",
    "\n",
    "\n",
    "```python\n",
    "# Have troubles: JSONDecodeError\n",
    "\n",
    "def json_to_str(df, col_name: str):\n",
    "    df[col_name] = df[col_name].apply(json.loads)\n",
    "    for index, i in zip(df.index, df[col_name]):\n",
    "        list1 = []\n",
    "        for j in range(len(i)):\n",
    "            # the key 'name' contains the name\n",
    "            list1.append((i[j]['name']))\n",
    "        df.loc[index, col_name] = str(list1)\n",
    "    \n",
    "json_col = ['genres', 'production_companies']\n",
    "for col_name in json_col:\n",
    "    json_to_str(raw_data, col_name)\n",
    "    \n",
    "raw_data.head()\n",
    "```"
   ]
  },
  {
   "cell_type": "code",
   "execution_count": 11,
   "metadata": {},
   "outputs": [
    {
     "name": "stdout",
     "output_type": "stream",
     "text": [
      "Sample Value:\n",
      "[{'id': 35, 'name': 'Comedy'}, {'id': 80, 'name': 'Crime'}]\n",
      "[{'id': 491, 'logo_path': '/rUp0lLKa1pr4UsPm8fgzmnNGxtq.png', 'name': 'Summit Entertainment', 'origin_country': 'US'}, {'id': 21920, 'logo_path': None, 'name': 'The Steve Tisch Company', 'origin_country': ''}, {'id': 13419, 'logo_path': None, 'name': 'SKA Films', 'origin_country': ''}, {'id': 1382, 'logo_path': '/sOg7LGESPH5vCTOIdbMhLuypoLL.png', 'name': 'PolyGram Filmed Entertainment', 'origin_country': 'US'}, {'id': 20076, 'logo_path': '/i9qXGJIP9fGN22PP5jXUVENbyHi.png', 'name': 'HandMade Films', 'origin_country': 'GB'}]\n"
     ]
    }
   ],
   "source": [
    "print('Sample Value:')\n",
    "print(raw_data.loc[0, 'genres'])\n",
    "print(raw_data.loc[0, 'production_companies'])"
   ]
  },
  {
   "cell_type": "code",
   "execution_count": 12,
   "metadata": {},
   "outputs": [],
   "source": [
    "import ast\n",
    "\n",
    "def neat_json_col(raw_data, col_name: str):\n",
    "    raw_l = []\n",
    "    col_l = []\n",
    "    for index, row in raw_data.iterrows():\n",
    "        raw_l = ast.literal_eval(row[col_name])\n",
    "        cell_l = []\n",
    "        \n",
    "        for i in range(len(raw_l)):\n",
    "            cell_l.append(raw_l[i]['name'])\n",
    "        col_l.append(cell_l)\n",
    "        \n",
    "    raw_data[col_name] = pd.Series(col_l)\n",
    "\n",
    "        \n",
    "json_col = ['genres', 'production_companies']\n",
    "for col_name in json_col:\n",
    "    neat_json_col(raw_data, col_name)"
   ]
  },
  {
   "cell_type": "code",
   "execution_count": 13,
   "metadata": {},
   "outputs": [
    {
     "name": "stdout",
     "output_type": "stream",
     "text": [
      "Sample Result:\n",
      "['Comedy', 'Crime']\n",
      "['Summit Entertainment', 'The Steve Tisch Company', 'SKA Films', 'PolyGram Filmed Entertainment', 'HandMade Films']\n"
     ]
    }
   ],
   "source": [
    "print('Sample Result:')\n",
    "print(raw_data.loc[0, 'genres'])\n",
    "print(raw_data.loc[0, 'production_companies'])"
   ]
  },
  {
   "cell_type": "markdown",
   "metadata": {},
   "source": [
    "---\n",
    "### Change string format of release_date into Datatime format"
   ]
  },
  {
   "cell_type": "code",
   "execution_count": 14,
   "metadata": {},
   "outputs": [
    {
     "data": {
      "text/plain": [
       "0   1998-05-03\n",
       "1   1994-09-14\n",
       "2   1976-09-02\n",
       "3   1998-03-03\n",
       "4   1985-03-07\n",
       "Name: release_date, dtype: datetime64[ns]"
      ]
     },
     "execution_count": 14,
     "metadata": {},
     "output_type": "execute_result"
    }
   ],
   "source": [
    "raw_data['release_date'] = pd.to_datetime(raw_data['release_date'])\n",
    "raw_data['release_date'].head()"
   ]
  },
  {
   "cell_type": "markdown",
   "metadata": {},
   "source": [
    "---\n",
    "### Extract year and month of release date and Put into new columns\n",
    "- Create a new column: \n",
    "\n",
    "    ``` movies[\"new_columns\"] = \"\" ```\n",
    "    \n",
    "    \n",
    "- Extract year from datetime: \n",
    "\n",
    "    ``` df['date'] = pd.to_datetime(df['date']) ```\n",
    "    \n",
    "    ``` df['year'], df['month'] = df['date'].dt.year, df['date'].dt.month ```"
   ]
  },
  {
   "cell_type": "code",
   "execution_count": 15,
   "metadata": {},
   "outputs": [
    {
     "data": {
      "text/plain": [
       "count    5254.000000\n",
       "mean     2001.101447\n",
       "std        14.896501\n",
       "min      1915.000000\n",
       "25%      1995.000000\n",
       "50%      2005.000000\n",
       "75%      2011.000000\n",
       "max      2021.000000\n",
       "Name: release_year, dtype: float64"
      ]
     },
     "metadata": {},
     "output_type": "display_data"
    },
    {
     "data": {
      "text/plain": [
       "count     5254\n",
       "unique      12\n",
       "top         12\n",
       "freq       561\n",
       "Name: release_month, dtype: int64"
      ]
     },
     "metadata": {},
     "output_type": "display_data"
    }
   ],
   "source": [
    "# Extract year and month of release date and Put into new columns\n",
    "raw_data['release_year'] = raw_data['release_date'].dt.year\n",
    "raw_data['release_month'] = raw_data['release_date'].dt.month\n",
    "\n",
    "# Drop release_date columns\n",
    "raw_data.drop(['release_date'],axis=1,inplace=True)\n",
    "raw_data = raw_data.reset_index(drop=True)\n",
    "\n",
    "# Fill NA/NaN values using 0\n",
    "raw_data['release_year'] = raw_data['release_year'].fillna(0)\n",
    "raw_data['release_month'] = raw_data['release_month'].fillna(0)\n",
    "\n",
    "# Convert dtypes of columns\n",
    "raw_data['release_year'] = raw_data['release_year'].astype('int64')\n",
    "raw_data['release_month'] = raw_data['release_month'].astype('category')\n",
    "\n",
    "display(raw_data['release_year'].describe())\n",
    "display(raw_data['release_month'].describe())"
   ]
  },
  {
   "cell_type": "markdown",
   "metadata": {},
   "source": [
    "---\n",
    "### Drop rows which release_year >= 1990 and Adjust the revenue according to inflation"
   ]
  },
  {
   "cell_type": "code",
   "execution_count": 16,
   "metadata": {},
   "outputs": [],
   "source": [
    "# Inflation rate to transform the revenue in the early years to the equvilence revenue in 2021\n",
    "# Data get from https://smartasset.com/investing/inflation-calculator\n",
    "inflation = [2.05,1.97,1.91,1.86,1.81,1.76,1.71,1.67,1.65,1.61,1.56,1.52,1.49,1.46,1.42,1.37,1.33,1.29,1.25,1.25,\n",
    "            1.23,1.19,1.17,1.15,1.13,1.13,1.12,1.10,1.07,1.05,1.04,1] \n",
    "\n",
    "raw_data = raw_data.loc[raw_data['release_year']>=1990]\n",
    "raw_data = raw_data.reset_index(drop=True)"
   ]
  },
  {
   "cell_type": "code",
   "execution_count": 17,
   "metadata": {},
   "outputs": [
    {
     "data": {
      "text/html": [
       "<div>\n",
       "<style scoped>\n",
       "    .dataframe tbody tr th:only-of-type {\n",
       "        vertical-align: middle;\n",
       "    }\n",
       "\n",
       "    .dataframe tbody tr th {\n",
       "        vertical-align: top;\n",
       "    }\n",
       "\n",
       "    .dataframe thead th {\n",
       "        text-align: right;\n",
       "    }\n",
       "</style>\n",
       "<table border=\"1\" class=\"dataframe\">\n",
       "  <thead>\n",
       "    <tr style=\"text-align: right;\">\n",
       "      <th></th>\n",
       "      <th>budget</th>\n",
       "      <th>genres</th>\n",
       "      <th>popularity</th>\n",
       "      <th>production_companies</th>\n",
       "      <th>revenue</th>\n",
       "      <th>runtime</th>\n",
       "      <th>title</th>\n",
       "      <th>vote_average</th>\n",
       "      <th>vote_count</th>\n",
       "      <th>release_year</th>\n",
       "      <th>release_month</th>\n",
       "      <th>adj_revenue</th>\n",
       "      <th>adj_budget</th>\n",
       "    </tr>\n",
       "  </thead>\n",
       "  <tbody>\n",
       "    <tr>\n",
       "      <th>0</th>\n",
       "      <td>1350000</td>\n",
       "      <td>[Comedy, Crime]</td>\n",
       "      <td>8.871</td>\n",
       "      <td>[Summit Entertainment, The Steve Tisch Company...</td>\n",
       "      <td>28356188.0</td>\n",
       "      <td>105.0</td>\n",
       "      <td>Lock, Stock and Two Smoking Barrels</td>\n",
       "      <td>8.2</td>\n",
       "      <td>4722.0</td>\n",
       "      <td>1998</td>\n",
       "      <td>5</td>\n",
       "      <td>46787710</td>\n",
       "      <td>2227500</td>\n",
       "    </tr>\n",
       "    <tr>\n",
       "      <th>1</th>\n",
       "      <td>16000000</td>\n",
       "      <td>[Crime, Drama, Action]</td>\n",
       "      <td>34.591</td>\n",
       "      <td>[Gaumont, Les Films du Dauphin]</td>\n",
       "      <td>45284974.0</td>\n",
       "      <td>111.0</td>\n",
       "      <td>L??on: The Professional</td>\n",
       "      <td>8.3</td>\n",
       "      <td>10702.0</td>\n",
       "      <td>1994</td>\n",
       "      <td>9</td>\n",
       "      <td>81965802</td>\n",
       "      <td>28960000</td>\n",
       "    </tr>\n",
       "    <tr>\n",
       "      <th>2</th>\n",
       "      <td>1530000</td>\n",
       "      <td>[Action, Drama, Thriller]</td>\n",
       "      <td>10.156</td>\n",
       "      <td>[X Filme Creative Pool, WDR]</td>\n",
       "      <td>7267585.0</td>\n",
       "      <td>81.0</td>\n",
       "      <td>Run Lola Run</td>\n",
       "      <td>7.3</td>\n",
       "      <td>1485.0</td>\n",
       "      <td>1998</td>\n",
       "      <td>3</td>\n",
       "      <td>11991515</td>\n",
       "      <td>2524500</td>\n",
       "    </tr>\n",
       "    <tr>\n",
       "      <th>3</th>\n",
       "      <td>10000000</td>\n",
       "      <td>[Crime, Comedy]</td>\n",
       "      <td>17.128</td>\n",
       "      <td>[Screen Gems, SKA Films, Columbia Pictures]</td>\n",
       "      <td>83557872.0</td>\n",
       "      <td>104.0</td>\n",
       "      <td>Snatch</td>\n",
       "      <td>7.8</td>\n",
       "      <td>6519.0</td>\n",
       "      <td>2000</td>\n",
       "      <td>1</td>\n",
       "      <td>130350280</td>\n",
       "      <td>15600000</td>\n",
       "    </tr>\n",
       "    <tr>\n",
       "      <th>4</th>\n",
       "      <td>14000000</td>\n",
       "      <td>[Romance, Comedy]</td>\n",
       "      <td>51.140</td>\n",
       "      <td>[Touchstone Pictures, Silver Screen Partners IV]</td>\n",
       "      <td>463000000.0</td>\n",
       "      <td>119.0</td>\n",
       "      <td>Pretty Woman</td>\n",
       "      <td>7.4</td>\n",
       "      <td>5615.0</td>\n",
       "      <td>1990</td>\n",
       "      <td>3</td>\n",
       "      <td>949149999</td>\n",
       "      <td>28699999</td>\n",
       "    </tr>\n",
       "  </tbody>\n",
       "</table>\n",
       "</div>"
      ],
      "text/plain": [
       "     budget                     genres  popularity  \\\n",
       "0   1350000            [Comedy, Crime]       8.871   \n",
       "1  16000000     [Crime, Drama, Action]      34.591   \n",
       "2   1530000  [Action, Drama, Thriller]      10.156   \n",
       "3  10000000            [Crime, Comedy]      17.128   \n",
       "4  14000000          [Romance, Comedy]      51.140   \n",
       "\n",
       "                                production_companies      revenue  runtime  \\\n",
       "0  [Summit Entertainment, The Steve Tisch Company...   28356188.0    105.0   \n",
       "1                    [Gaumont, Les Films du Dauphin]   45284974.0    111.0   \n",
       "2                       [X Filme Creative Pool, WDR]    7267585.0     81.0   \n",
       "3        [Screen Gems, SKA Films, Columbia Pictures]   83557872.0    104.0   \n",
       "4   [Touchstone Pictures, Silver Screen Partners IV]  463000000.0    119.0   \n",
       "\n",
       "                                 title  vote_average  vote_count  \\\n",
       "0  Lock, Stock and Two Smoking Barrels           8.2      4722.0   \n",
       "1              L??on: The Professional           8.3     10702.0   \n",
       "2                         Run Lola Run           7.3      1485.0   \n",
       "3                               Snatch           7.8      6519.0   \n",
       "4                         Pretty Woman           7.4      5615.0   \n",
       "\n",
       "   release_year release_month  adj_revenue  adj_budget  \n",
       "0          1998             5     46787710     2227500  \n",
       "1          1994             9     81965802    28960000  \n",
       "2          1998             3     11991515     2524500  \n",
       "3          2000             1    130350280    15600000  \n",
       "4          1990             3    949149999    28699999  "
      ]
     },
     "execution_count": 17,
     "metadata": {},
     "output_type": "execute_result"
    }
   ],
   "source": [
    "adjusted_revenue = []\n",
    "adjusted_budget = []\n",
    "for index, rows in raw_data.iterrows():\n",
    "    adjusted_revenue.append(int(rows['revenue'] * inflation[rows['release_year']-1990]))\n",
    "    adjusted_budget.append(int(rows['budget'] * inflation[rows['release_year']-1990]))\n",
    "    \n",
    "adjusted_revenue = pd.DataFrame(adjusted_revenue, columns = ['adj_revenue'])\n",
    "adjusted_budget = pd.DataFrame(adjusted_budget, columns = ['adj_budget'])\n",
    "raw_data = pd.concat([raw_data, adjusted_revenue, adjusted_budget], axis = 1)\n",
    "raw_data.head()"
   ]
  },
  {
   "cell_type": "code",
   "execution_count": 18,
   "metadata": {},
   "outputs": [
    {
     "data": {
      "text/plain": [
       "<AxesSubplot:xlabel='revenue', ylabel='Count'>"
      ]
     },
     "execution_count": 18,
     "metadata": {},
     "output_type": "execute_result"
    },
    {
     "data": {
      "image/png": "[encoded data removed]",
      "text/plain": [
       "<Figure size 1080x432 with 2 Axes>"
      ]
     },
     "metadata": {
      "needs_background": "light"
     },
     "output_type": "display_data"
    }
   ],
   "source": [
    "fig, (ax1, ax2) = plt.subplots(1, 2, figsize=(15,6))\n",
    "\n",
    "sb.histplot(raw_data['budget'], ax=ax1, kde=True)\n",
    "sb.histplot(raw_data['revenue'], ax=ax2, kde=True)"
   ]
  },
  {
   "cell_type": "code",
   "execution_count": 19,
   "metadata": {},
   "outputs": [
    {
     "data": {
      "text/plain": [
       "<AxesSubplot:xlabel='adj_revenue', ylabel='Count'>"
      ]
     },
     "execution_count": 19,
     "metadata": {},
     "output_type": "execute_result"
    },
    {
     "data": {
      "image/png": "[encoded data removed]",
      "text/plain": [
       "<Figure size 1080x432 with 2 Axes>"
      ]
     },
     "metadata": {
      "needs_background": "light"
     },
     "output_type": "display_data"
    }
   ],
   "source": [
    "fig, (ax1, ax2) = plt.subplots(1, 2, figsize=(15,6))\n",
    "\n",
    "sb.histplot(raw_data['adj_budget'], ax=ax1, kde=True)\n",
    "sb.histplot(raw_data['adj_revenue'], ax=ax2, kde=True)"
   ]
  },
  {
   "cell_type": "code",
   "execution_count": 20,
   "metadata": {},
   "outputs": [
    {
     "name": "stdout",
     "output_type": "stream",
     "text": [
      "<class 'pandas.core.frame.DataFrame'>\n",
      "RangeIndex: 4478 entries, 0 to 4477\n",
      "Data columns (total 13 columns):\n",
      " #   Column                Non-Null Count  Dtype   \n",
      "---  ------                --------------  -----   \n",
      " 0   budget                4478 non-null   int64   \n",
      " 1   genres                4478 non-null   object  \n",
      " 2   popularity            4478 non-null   float64 \n",
      " 3   production_companies  4478 non-null   object  \n",
      " 4   revenue               4478 non-null   float64 \n",
      " 5   runtime               4478 non-null   float64 \n",
      " 6   title                 4478 non-null   object  \n",
      " 7   vote_average          4478 non-null   float64 \n",
      " 8   vote_count            4478 non-null   float64 \n",
      " 9   release_year          4478 non-null   int64   \n",
      " 10  release_month         4478 non-null   category\n",
      " 11  adj_revenue           4478 non-null   int64   \n",
      " 12  adj_budget            4478 non-null   int64   \n",
      "dtypes: category(1), float64(5), int64(4), object(3)\n",
      "memory usage: 424.7+ KB\n"
     ]
    }
   ],
   "source": [
    "raw_data.info()"
   ]
  },
  {
   "cell_type": "code",
   "execution_count": 21,
   "metadata": {},
   "outputs": [
    {
     "data": {
      "text/html": [
       "<div>\n",
       "<style scoped>\n",
       "    .dataframe tbody tr th:only-of-type {\n",
       "        vertical-align: middle;\n",
       "    }\n",
       "\n",
       "    .dataframe tbody tr th {\n",
       "        vertical-align: top;\n",
       "    }\n",
       "\n",
       "    .dataframe thead th {\n",
       "        text-align: right;\n",
       "    }\n",
       "</style>\n",
       "<table border=\"1\" class=\"dataframe\">\n",
       "  <thead>\n",
       "    <tr style=\"text-align: right;\">\n",
       "      <th></th>\n",
       "      <th>budget</th>\n",
       "      <th>popularity</th>\n",
       "      <th>revenue</th>\n",
       "      <th>runtime</th>\n",
       "      <th>vote_average</th>\n",
       "      <th>vote_count</th>\n",
       "      <th>release_year</th>\n",
       "      <th>adj_revenue</th>\n",
       "      <th>adj_budget</th>\n",
       "    </tr>\n",
       "  </thead>\n",
       "  <tbody>\n",
       "    <tr>\n",
       "      <th>count</th>\n",
       "      <td>4.478000e+03</td>\n",
       "      <td>4478.000000</td>\n",
       "      <td>4.478000e+03</td>\n",
       "      <td>4478.000000</td>\n",
       "      <td>4478.000000</td>\n",
       "      <td>4478.000000</td>\n",
       "      <td>4478.000000</td>\n",
       "      <td>4.478000e+03</td>\n",
       "      <td>4.478000e+03</td>\n",
       "    </tr>\n",
       "    <tr>\n",
       "      <th>mean</th>\n",
       "      <td>4.060529e+07</td>\n",
       "      <td>26.228416</td>\n",
       "      <td>1.196056e+08</td>\n",
       "      <td>110.036177</td>\n",
       "      <td>6.423024</td>\n",
       "      <td>2097.398392</td>\n",
       "      <td>2005.930326</td>\n",
       "      <td>1.566573e+08</td>\n",
       "      <td>5.419486e+07</td>\n",
       "    </tr>\n",
       "    <tr>\n",
       "      <th>std</th>\n",
       "      <td>4.707478e+07</td>\n",
       "      <td>157.743552</td>\n",
       "      <td>1.998341e+08</td>\n",
       "      <td>20.848026</td>\n",
       "      <td>0.852666</td>\n",
       "      <td>3148.538133</td>\n",
       "      <td>7.897182</td>\n",
       "      <td>2.495380e+08</td>\n",
       "      <td>6.113924e+07</td>\n",
       "    </tr>\n",
       "    <tr>\n",
       "      <th>min</th>\n",
       "      <td>1.000000e+00</td>\n",
       "      <td>0.019984</td>\n",
       "      <td>1.000000e+00</td>\n",
       "      <td>3.000000</td>\n",
       "      <td>1.000000</td>\n",
       "      <td>1.000000</td>\n",
       "      <td>1990.000000</td>\n",
       "      <td>1.000000e+00</td>\n",
       "      <td>1.000000e+00</td>\n",
       "    </tr>\n",
       "    <tr>\n",
       "      <th>25%</th>\n",
       "      <td>1.100000e+07</td>\n",
       "      <td>10.302500</td>\n",
       "      <td>1.562921e+07</td>\n",
       "      <td>96.000000</td>\n",
       "      <td>5.900000</td>\n",
       "      <td>251.000000</td>\n",
       "      <td>2000.000000</td>\n",
       "      <td>2.285673e+07</td>\n",
       "      <td>1.469250e+07</td>\n",
       "    </tr>\n",
       "    <tr>\n",
       "      <th>50%</th>\n",
       "      <td>2.500000e+07</td>\n",
       "      <td>14.177500</td>\n",
       "      <td>4.989576e+07</td>\n",
       "      <td>106.000000</td>\n",
       "      <td>6.400000</td>\n",
       "      <td>906.000000</td>\n",
       "      <td>2006.000000</td>\n",
       "      <td>6.708825e+07</td>\n",
       "      <td>3.496000e+07</td>\n",
       "    </tr>\n",
       "    <tr>\n",
       "      <th>75%</th>\n",
       "      <td>5.100000e+07</td>\n",
       "      <td>23.319500</td>\n",
       "      <td>1.340269e+08</td>\n",
       "      <td>121.000000</td>\n",
       "      <td>7.000000</td>\n",
       "      <td>2520.750000</td>\n",
       "      <td>2012.000000</td>\n",
       "      <td>1.815728e+08</td>\n",
       "      <td>7.450000e+07</td>\n",
       "    </tr>\n",
       "    <tr>\n",
       "      <th>max</th>\n",
       "      <td>9.653130e+08</td>\n",
       "      <td>9975.169000</td>\n",
       "      <td>2.797801e+09</td>\n",
       "      <td>338.000000</td>\n",
       "      <td>10.000000</td>\n",
       "      <td>28790.000000</td>\n",
       "      <td>2021.000000</td>\n",
       "      <td>3.653065e+09</td>\n",
       "      <td>1.650685e+09</td>\n",
       "    </tr>\n",
       "  </tbody>\n",
       "</table>\n",
       "</div>"
      ],
      "text/plain": [
       "             budget   popularity       revenue      runtime  vote_average  \\\n",
       "count  4.478000e+03  4478.000000  4.478000e+03  4478.000000   4478.000000   \n",
       "mean   4.060529e+07    26.228416  1.196056e+08   110.036177      6.423024   \n",
       "std    4.707478e+07   157.743552  1.998341e+08    20.848026      0.852666   \n",
       "min    1.000000e+00     0.019984  1.000000e+00     3.000000      1.000000   \n",
       "25%    1.100000e+07    10.302500  1.562921e+07    96.000000      5.900000   \n",
       "50%    2.500000e+07    14.177500  4.989576e+07   106.000000      6.400000   \n",
       "75%    5.100000e+07    23.319500  1.340269e+08   121.000000      7.000000   \n",
       "max    9.653130e+08  9975.169000  2.797801e+09   338.000000     10.000000   \n",
       "\n",
       "         vote_count  release_year   adj_revenue    adj_budget  \n",
       "count   4478.000000   4478.000000  4.478000e+03  4.478000e+03  \n",
       "mean    2097.398392   2005.930326  1.566573e+08  5.419486e+07  \n",
       "std     3148.538133      7.897182  2.495380e+08  6.113924e+07  \n",
       "min        1.000000   1990.000000  1.000000e+00  1.000000e+00  \n",
       "25%      251.000000   2000.000000  2.285673e+07  1.469250e+07  \n",
       "50%      906.000000   2006.000000  6.708825e+07  3.496000e+07  \n",
       "75%     2520.750000   2012.000000  1.815728e+08  7.450000e+07  \n",
       "max    28790.000000   2021.000000  3.653065e+09  1.650685e+09  "
      ]
     },
     "execution_count": 21,
     "metadata": {},
     "output_type": "execute_result"
    }
   ],
   "source": [
    "raw_data.describe()"
   ]
  },
  {
   "cell_type": "markdown",
   "metadata": {},
   "source": [
    "---\n",
    "### Export new dataframe to a csv file"
   ]
  },
  {
   "cell_type": "code",
   "execution_count": 22,
   "metadata": {},
   "outputs": [],
   "source": [
    "# index= False to not write out an unamed index column\n",
    "raw_data.to_csv(r'data\\cleaned_data.csv', index=False)"
   ]
  },
  {
   "cell_type": "code",
   "execution_count": null,
   "metadata": {},
   "outputs": [],
   "source": []
  }
 ],
 "metadata": {
  "kernelspec": {
   "display_name": "Python 3",
   "language": "python",
   "name": "python3"
  },
  "language_info": {
   "codemirror_mode": {
    "name": "ipython",
    "version": 3
   },
   "file_extension": ".py",
   "mimetype": "text/x-python",
   "name": "python",
   "nbconvert_exporter": "python",
   "pygments_lexer": "ipython3",
   "version": "3.8.5"
  }
 },
 "nbformat": 4,
 "nbformat_minor": 4
}
