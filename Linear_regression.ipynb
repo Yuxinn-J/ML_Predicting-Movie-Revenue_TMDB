{
 "cells": [
  {
   "cell_type": "code",
   "execution_count": 14,
   "metadata": {},
   "outputs": [
    {
     "data": {
      "text/html": [
       "<div>\n",
       "<style scoped>\n",
       "    .dataframe tbody tr th:only-of-type {\n",
       "        vertical-align: middle;\n",
       "    }\n",
       "\n",
       "    .dataframe tbody tr th {\n",
       "        vertical-align: top;\n",
       "    }\n",
       "\n",
       "    .dataframe thead th {\n",
       "        text-align: right;\n",
       "    }\n",
       "</style>\n",
       "<table border=\"1\" class=\"dataframe\">\n",
       "  <thead>\n",
       "    <tr style=\"text-align: right;\">\n",
       "      <th></th>\n",
       "      <th>runtime</th>\n",
       "      <th>vote_average</th>\n",
       "      <th>release_month</th>\n",
       "      <th>Comedy</th>\n",
       "      <th>Crime</th>\n",
       "      <th>Drama</th>\n",
       "      <th>Action</th>\n",
       "      <th>Thriller</th>\n",
       "      <th>Romance</th>\n",
       "      <th>Adventure</th>\n",
       "      <th>...</th>\n",
       "      <th>Documentary</th>\n",
       "      <th>Western</th>\n",
       "      <th>Empty</th>\n",
       "      <th>TVMovie</th>\n",
       "      <th>Foreign</th>\n",
       "      <th>PC_class</th>\n",
       "      <th>log_budget</th>\n",
       "      <th>log_revenue</th>\n",
       "      <th>log_popularity</th>\n",
       "      <th>log_vote_count</th>\n",
       "    </tr>\n",
       "  </thead>\n",
       "  <tbody>\n",
       "    <tr>\n",
       "      <th>0</th>\n",
       "      <td>105.0</td>\n",
       "      <td>8.2</td>\n",
       "      <td>5</td>\n",
       "      <td>1</td>\n",
       "      <td>1</td>\n",
       "      <td>0</td>\n",
       "      <td>0</td>\n",
       "      <td>0</td>\n",
       "      <td>0</td>\n",
       "      <td>0</td>\n",
       "      <td>...</td>\n",
       "      <td>0</td>\n",
       "      <td>0</td>\n",
       "      <td>0</td>\n",
       "      <td>0</td>\n",
       "      <td>0</td>\n",
       "      <td>2</td>\n",
       "      <td>14.616391</td>\n",
       "      <td>17.661131</td>\n",
       "      <td>2.289601</td>\n",
       "      <td>8.460199</td>\n",
       "    </tr>\n",
       "    <tr>\n",
       "      <th>1</th>\n",
       "      <td>111.0</td>\n",
       "      <td>8.3</td>\n",
       "      <td>9</td>\n",
       "      <td>0</td>\n",
       "      <td>1</td>\n",
       "      <td>1</td>\n",
       "      <td>1</td>\n",
       "      <td>0</td>\n",
       "      <td>0</td>\n",
       "      <td>0</td>\n",
       "      <td>...</td>\n",
       "      <td>0</td>\n",
       "      <td>0</td>\n",
       "      <td>0</td>\n",
       "      <td>0</td>\n",
       "      <td>0</td>\n",
       "      <td>3</td>\n",
       "      <td>17.181426</td>\n",
       "      <td>18.221813</td>\n",
       "      <td>3.572093</td>\n",
       "      <td>9.278279</td>\n",
       "    </tr>\n",
       "    <tr>\n",
       "      <th>2</th>\n",
       "      <td>81.0</td>\n",
       "      <td>7.3</td>\n",
       "      <td>3</td>\n",
       "      <td>0</td>\n",
       "      <td>0</td>\n",
       "      <td>1</td>\n",
       "      <td>1</td>\n",
       "      <td>1</td>\n",
       "      <td>0</td>\n",
       "      <td>0</td>\n",
       "      <td>...</td>\n",
       "      <td>0</td>\n",
       "      <td>0</td>\n",
       "      <td>0</td>\n",
       "      <td>0</td>\n",
       "      <td>0</td>\n",
       "      <td>3</td>\n",
       "      <td>14.741554</td>\n",
       "      <td>16.299710</td>\n",
       "      <td>2.411977</td>\n",
       "      <td>7.303843</td>\n",
       "    </tr>\n",
       "    <tr>\n",
       "      <th>3</th>\n",
       "      <td>104.0</td>\n",
       "      <td>7.8</td>\n",
       "      <td>1</td>\n",
       "      <td>1</td>\n",
       "      <td>1</td>\n",
       "      <td>0</td>\n",
       "      <td>0</td>\n",
       "      <td>0</td>\n",
       "      <td>0</td>\n",
       "      <td>0</td>\n",
       "      <td>...</td>\n",
       "      <td>0</td>\n",
       "      <td>0</td>\n",
       "      <td>0</td>\n",
       "      <td>0</td>\n",
       "      <td>0</td>\n",
       "      <td>1</td>\n",
       "      <td>16.562782</td>\n",
       "      <td>18.685736</td>\n",
       "      <td>2.897458</td>\n",
       "      <td>8.782630</td>\n",
       "    </tr>\n",
       "    <tr>\n",
       "      <th>4</th>\n",
       "      <td>119.0</td>\n",
       "      <td>7.4</td>\n",
       "      <td>3</td>\n",
       "      <td>1</td>\n",
       "      <td>0</td>\n",
       "      <td>0</td>\n",
       "      <td>0</td>\n",
       "      <td>0</td>\n",
       "      <td>1</td>\n",
       "      <td>0</td>\n",
       "      <td>...</td>\n",
       "      <td>0</td>\n",
       "      <td>0</td>\n",
       "      <td>0</td>\n",
       "      <td>0</td>\n",
       "      <td>0</td>\n",
       "      <td>1</td>\n",
       "      <td>17.172408</td>\n",
       "      <td>20.671077</td>\n",
       "      <td>3.953932</td>\n",
       "      <td>8.633375</td>\n",
       "    </tr>\n",
       "  </tbody>\n",
       "</table>\n",
       "<p>5 rows × 29 columns</p>\n",
       "</div>"
      ],
      "text/plain": [
       "   runtime  vote_average  release_month  Comedy  Crime  Drama  Action  \\\n",
       "0    105.0           8.2              5       1      1      0       0   \n",
       "1    111.0           8.3              9       0      1      1       1   \n",
       "2     81.0           7.3              3       0      0      1       1   \n",
       "3    104.0           7.8              1       1      1      0       0   \n",
       "4    119.0           7.4              3       1      0      0       0   \n",
       "\n",
       "   Thriller  Romance  Adventure  ...  Documentary  Western  Empty  TVMovie  \\\n",
       "0         0        0          0  ...            0        0      0        0   \n",
       "1         0        0          0  ...            0        0      0        0   \n",
       "2         1        0          0  ...            0        0      0        0   \n",
       "3         0        0          0  ...            0        0      0        0   \n",
       "4         0        1          0  ...            0        0      0        0   \n",
       "\n",
       "   Foreign  PC_class  log_budget  log_revenue  log_popularity  log_vote_count  \n",
       "0        0         2   14.616391    17.661131        2.289601        8.460199  \n",
       "1        0         3   17.181426    18.221813        3.572093        9.278279  \n",
       "2        0         3   14.741554    16.299710        2.411977        7.303843  \n",
       "3        0         1   16.562782    18.685736        2.897458        8.782630  \n",
       "4        0         1   17.172408    20.671077        3.953932        8.633375  \n",
       "\n",
       "[5 rows x 29 columns]"
      ]
     },
     "execution_count": 14,
     "metadata": {},
     "output_type": "execute_result"
    }
   ],
   "source": [
    "import numpy as np\n",
    "import pandas as pd\n",
    "\n",
    "# load data\n",
    "data = pd.read_csv(\"movie_data.csv\")\n",
    "data.head()"
   ]
  },
  {
   "cell_type": "code",
   "execution_count": 15,
   "metadata": {
    "scrolled": true
   },
   "outputs": [
    {
     "name": "stdout",
     "output_type": "stream",
     "text": [
      "<class 'pandas.core.frame.DataFrame'>\n",
      "RangeIndex: 4473 entries, 0 to 4472\n",
      "Data columns (total 29 columns):\n",
      " #   Column          Non-Null Count  Dtype  \n",
      "---  ------          --------------  -----  \n",
      " 0   runtime         4473 non-null   float64\n",
      " 1   vote_average    4473 non-null   float64\n",
      " 2   release_month   4473 non-null   int64  \n",
      " 3   Comedy          4473 non-null   int64  \n",
      " 4   Crime           4473 non-null   int64  \n",
      " 5   Drama           4473 non-null   int64  \n",
      " 6   Action          4473 non-null   int64  \n",
      " 7   Thriller        4473 non-null   int64  \n",
      " 8   Romance         4473 non-null   int64  \n",
      " 9   Adventure       4473 non-null   int64  \n",
      " 10  Family          4473 non-null   int64  \n",
      " 11  Fantasy         4473 non-null   int64  \n",
      " 12  Animation       4473 non-null   int64  \n",
      " 13  Mystery         4473 non-null   int64  \n",
      " 14  ScienceFiction  4473 non-null   int64  \n",
      " 15  Horror          4473 non-null   int64  \n",
      " 16  History         4473 non-null   int64  \n",
      " 17  War             4473 non-null   int64  \n",
      " 18  Music           4473 non-null   int64  \n",
      " 19  Documentary     4473 non-null   int64  \n",
      " 20  Western         4473 non-null   int64  \n",
      " 21  Empty           4473 non-null   int64  \n",
      " 22  TVMovie         4473 non-null   int64  \n",
      " 23  Foreign         4473 non-null   int64  \n",
      " 24  PC_class        4473 non-null   int64  \n",
      " 25  log_budget      4473 non-null   float64\n",
      " 26  log_revenue     4473 non-null   float64\n",
      " 27  log_popularity  4473 non-null   float64\n",
      " 28  log_vote_count  4473 non-null   float64\n",
      "dtypes: float64(6), int64(23)\n",
      "memory usage: 1013.5 KB\n"
     ]
    }
   ],
   "source": [
    "# show information of data\n",
    "data.info()"
   ]
  },
  {
   "cell_type": "code",
   "execution_count": 16,
   "metadata": {},
   "outputs": [
    {
     "name": "stdout",
     "output_type": "stream",
     "text": [
      "<class 'pandas.core.frame.DataFrame'>\n",
      "RangeIndex: 4473 entries, 0 to 4472\n",
      "Data columns (total 29 columns):\n",
      " #   Column          Non-Null Count  Dtype   \n",
      "---  ------          --------------  -----   \n",
      " 0   runtime         4473 non-null   float64 \n",
      " 1   vote_average    4473 non-null   float64 \n",
      " 2   release_month   4473 non-null   category\n",
      " 3   Comedy          4473 non-null   int64   \n",
      " 4   Crime           4473 non-null   int64   \n",
      " 5   Drama           4473 non-null   int64   \n",
      " 6   Action          4473 non-null   int64   \n",
      " 7   Thriller        4473 non-null   int64   \n",
      " 8   Romance         4473 non-null   int64   \n",
      " 9   Adventure       4473 non-null   int64   \n",
      " 10  Family          4473 non-null   int64   \n",
      " 11  Fantasy         4473 non-null   int64   \n",
      " 12  Animation       4473 non-null   int64   \n",
      " 13  Mystery         4473 non-null   int64   \n",
      " 14  ScienceFiction  4473 non-null   int64   \n",
      " 15  Horror          4473 non-null   int64   \n",
      " 16  History         4473 non-null   int64   \n",
      " 17  War             4473 non-null   int64   \n",
      " 18  Music           4473 non-null   int64   \n",
      " 19  Documentary     4473 non-null   int64   \n",
      " 20  Western         4473 non-null   int64   \n",
      " 21  Empty           4473 non-null   int64   \n",
      " 22  TVMovie         4473 non-null   int64   \n",
      " 23  Foreign         4473 non-null   int64   \n",
      " 24  PC_class        4473 non-null   int64   \n",
      " 25  log_budget      4473 non-null   float64 \n",
      " 26  log_revenue     4473 non-null   float64 \n",
      " 27  log_popularity  4473 non-null   float64 \n",
      " 28  log_vote_count  4473 non-null   float64 \n",
      "dtypes: category(1), float64(6), int64(22)\n",
      "memory usage: 983.4 KB\n"
     ]
    }
   ],
   "source": [
    "# convert numeric data into categorical data\n",
    "data['release_month']=data['release_month'].astype(\"category\")\n",
    "\n",
    "# show information\n",
    "data.info()"
   ]
  },
  {
   "cell_type": "code",
   "execution_count": 17,
   "metadata": {},
   "outputs": [],
   "source": [
    "# set inputs\n",
    "X = pd.concat([data['runtime'],data['vote_average'],data['release_month'],data['Comedy'],data['Crime'],data['Drama'],data['Action'],data['Thriller']\n",
    "    ,data['Romance'],data['Adventure'],data['Family'],data['ScienceFiction'],data['Fantasy'],data['Horror'],\n",
    "    data['Mystery'],data['Animation'],data['History'],data['War'],data['Music'],data['Western'],data['Documentary'],data['Empty'],data['TVMovie'],data['Foreign'],\n",
    "              data['PC_class'],data['log_budget'],data['log_popularity'],data['log_vote_count']],axis=1)\n",
    "# set target value\n",
    "Y = data['log_revenue']"
   ]
  },
  {
   "cell_type": "code",
   "execution_count": 18,
   "metadata": {
    "scrolled": true
   },
   "outputs": [],
   "source": [
    "from sklearn.model_selection import train_test_split\n",
    "\n",
    "#split data into train dataset and test data set randomly\n",
    "X_train, X_test, y_train, y_test = train_test_split(X, Y, test_size=0.4)"
   ]
  },
  {
   "cell_type": "markdown",
   "metadata": {},
   "source": [
    "####  Build 3 different models and see which one performs best.<br><br>1. Linear Regression Model <br>2. Ridge Regression Model  <br>3. LASSO Regression Model"
   ]
  },
  {
   "cell_type": "markdown",
   "metadata": {},
   "source": [
    "### Linear Regression Model"
   ]
  },
  {
   "cell_type": "code",
   "execution_count": 19,
   "metadata": {},
   "outputs": [
    {
     "name": "stdout",
     "output_type": "stream",
     "text": [
      "                Coefficient\n",
      "runtime            0.011427\n",
      "vote_average       0.061129\n",
      "release_month      0.001057\n",
      "Comedy             0.129893\n",
      "Crime             -0.201047\n",
      "Drama             -0.274428\n",
      "Action             0.166781\n",
      "Thriller          -0.063536\n",
      "Romance           -0.001079\n",
      "Adventure         -0.030449\n",
      "Family             0.358029\n",
      "ScienceFiction    -0.337089\n",
      "Fantasy           -0.156302\n",
      "Horror             0.053585\n",
      "Mystery            0.024176\n",
      "Animation          0.137266\n",
      "History           -0.205167\n",
      "War                0.012163\n",
      "Music              0.132228\n",
      "Western           -0.466179\n",
      "Documentary        1.002023\n",
      "Empty              2.242427\n",
      "TVMovie            2.494095\n",
      "Foreign           -1.216886\n",
      "PC_class          -0.100673\n",
      "log_budget         0.501587\n",
      "log_popularity    -0.033913\n",
      "log_vote_count     0.563470\n"
     ]
    }
   ],
   "source": [
    "from sklearn.linear_model import LinearRegression\n",
    "\n",
    "# build model\n",
    "model_LR = LinearRegression()\n",
    "\n",
    "# fit model\n",
    "model_LR.fit(X_train,y_train)\n",
    "\n",
    "# print the coefficients\n",
    "coeff_parameter = pd.DataFrame(model_LR.coef_,X.columns,columns=['Coefficient'])\n",
    "print(coeff_parameter)"
   ]
  },
  {
   "cell_type": "code",
   "execution_count": 20,
   "metadata": {
    "scrolled": true
   },
   "outputs": [
    {
     "name": "stdout",
     "output_type": "stream",
     "text": [
      "Performance on Train Data:\n",
      "Mean Squared Error (MSE) on test \t: 1.4951434028166748\n",
      "Explained Variance (R^2) on test \t: 0.6354464504980601\n",
      "Performance on Test Data:\n",
      "Mean Squared Error (MSE) on test \t: 1.5230025677291887\n",
      "Explained Variance (R^2) on test \t: 0.6774463555841578\n"
     ]
    }
   ],
   "source": [
    "# make a prediction\n",
    "prediction_LR_test = model_LR.predict(X_test)\n",
    "prediction_LR_train = model_LR.predict(X_train)\n",
    "\n",
    "from sklearn.metrics import mean_squared_error\n",
    "\n",
    "# print the Mean Squared Error (MSE) on Train Data and compare to the training\n",
    "print(\"Performance on Train Data:\")\n",
    "print(\"Mean Squared Error (MSE) on test \\t:\", mean_squared_error(y_train, prediction_LR_train))\n",
    "print(\"Explained Variance (R^2) on test \\t:\", model_LR.score(X_train, y_train))\n",
    "\n",
    "# print the Mean Squared Error (MSE) on Test Data and compare to the training\n",
    "print(\"Performance on Test Data:\")\n",
    "print(\"Mean Squared Error (MSE) on test \\t:\", mean_squared_error(y_test, prediction_LR_test))\n",
    "print(\"Explained Variance (R^2) on test \\t:\", model_LR.score(X_test, y_test))"
   ]
  },
  {
   "cell_type": "markdown",
   "metadata": {},
   "source": [
    "### Ridge Regression Model"
   ]
  },
  {
   "cell_type": "code",
   "execution_count": 8,
   "metadata": {},
   "outputs": [
    {
     "name": "stdout",
     "output_type": "stream",
     "text": [
      "                Coefficient\n",
      "runtime            0.010520\n",
      "vote_average       0.137152\n",
      "release_month     -0.002024\n",
      "Comedy             0.083483\n",
      "Crime             -0.152564\n",
      "Drama             -0.295993\n",
      "Action             0.066235\n",
      "Thriller          -0.037294\n",
      "Romance            0.065115\n",
      "Adventure         -0.001352\n",
      "Family             0.369403\n",
      "ScienceFiction    -0.397771\n",
      "Fantasy           -0.219172\n",
      "Horror             0.176917\n",
      "Mystery           -0.039181\n",
      "Animation         -0.042450\n",
      "History           -0.145870\n",
      "War               -0.502502\n",
      "Music              0.213291\n",
      "Western           -0.710167\n",
      "Documentary        0.780495\n",
      "Empty              1.455418\n",
      "TVMovie            2.128055\n",
      "Foreign           -1.416758\n",
      "PC_class          -0.060976\n",
      "log_budget         0.609979\n",
      "log_popularity    -0.090984\n",
      "log_vote_count     0.530805\n"
     ]
    }
   ],
   "source": [
    "from sklearn.linear_model import Ridge\n",
    "\n",
    "# define model\n",
    "model_RR = Ridge(alpha=1.0)\n",
    "\n",
    "# fit model\n",
    "model_RR.fit(X_train, y_train)\n",
    "\n",
    "# print the coefficients\n",
    "coeff_parameter = pd.DataFrame(model_RR.coef_,X.columns,columns=['Coefficient'])\n",
    "print(coeff_parameter)"
   ]
  },
  {
   "cell_type": "code",
   "execution_count": 9,
   "metadata": {},
   "outputs": [
    {
     "name": "stdout",
     "output_type": "stream",
     "text": [
      "Performance on Train Data:\n",
      "Mean Squared Error (MSE) on test \t: 1.3542780891723525\n",
      "Explained Variance (R^2) on test \t: 0.650045887027092\n",
      "Performance on Test Data:\n",
      "Mean Squared Error (MSE) on test \t: 1.7310927088019243\n",
      "Explained Variance (R^2) on test \t: 0.6575060940630808\n"
     ]
    }
   ],
   "source": [
    "# make a prediction\n",
    "prediction_RR_test = model_RR.predict(X_test)\n",
    "prediction_RR_train = model_RR.predict(X_train)\n",
    "\n",
    "# print the Mean Squared Error (MSE) on Train Data and compare to the training\n",
    "print(\"Performance on Train Data:\")\n",
    "print(\"Mean Squared Error (MSE) on test \\t:\", mean_squared_error(y_train, prediction_RR_train))\n",
    "print(\"Explained Variance (R^2) on test \\t:\", model_RR.score(X_train, y_train))\n",
    "\n",
    "# print the Mean Squared Error (MSE) on Test Data and compare to the training\n",
    "print(\"Performance on Test Data:\")\n",
    "print(\"Mean Squared Error (MSE) on test \\t:\", mean_squared_error(y_test, prediction_RR_test))\n",
    "print(\"Explained Variance (R^2) on test \\t:\", model_RR.score(X_test, y_test))"
   ]
  },
  {
   "cell_type": "markdown",
   "metadata": {},
   "source": [
    "### LASSO Regression Model"
   ]
  },
  {
   "cell_type": "code",
   "execution_count": 10,
   "metadata": {},
   "outputs": [
    {
     "name": "stdout",
     "output_type": "stream",
     "text": [
      "                Coefficient\n",
      "runtime            0.010149\n",
      "vote_average       0.000000\n",
      "release_month      0.000000\n",
      "Comedy             0.000000\n",
      "Crime             -0.000000\n",
      "Drama             -0.000000\n",
      "Action             0.000000\n",
      "Thriller          -0.000000\n",
      "Romance           -0.000000\n",
      "Adventure          0.000000\n",
      "Family             0.000000\n",
      "ScienceFiction     0.000000\n",
      "Fantasy            0.000000\n",
      "Horror            -0.000000\n",
      "Mystery           -0.000000\n",
      "Animation          0.000000\n",
      "History           -0.000000\n",
      "War               -0.000000\n",
      "Music              0.000000\n",
      "Western           -0.000000\n",
      "Documentary        0.000000\n",
      "Empty              0.000000\n",
      "TVMovie            0.000000\n",
      "Foreign           -0.000000\n",
      "PC_class          -0.000000\n",
      "log_budget         0.262507\n",
      "log_popularity     0.000000\n",
      "log_vote_count     0.306852\n"
     ]
    }
   ],
   "source": [
    "from sklearn.linear_model import Lasso\n",
    "\n",
    "# define model\n",
    "model_LAR = Lasso(alpha=1.0)\n",
    "\n",
    "# fit model\n",
    "model_LAR.fit(X_train, y_train)\n",
    "\n",
    "# print the coefficients\n",
    "coeff_parameter = pd.DataFrame(model_LAR.coef_,X.columns,columns=['Coefficient'])\n",
    "print(coeff_parameter)"
   ]
  },
  {
   "cell_type": "code",
   "execution_count": 11,
   "metadata": {},
   "outputs": [
    {
     "name": "stdout",
     "output_type": "stream",
     "text": [
      "Performance on Train Data:\n",
      "Mean Squared Error (MSE) on test \t: 2.0261168284094127\n",
      "Explained Variance (R^2) on test \t: 0.47643846331529893\n",
      "Performance on Test Data:\n",
      "Mean Squared Error (MSE) on test \t: 2.547596559934137\n",
      "Explained Variance (R^2) on test \t: 0.49596212142377016\n"
     ]
    }
   ],
   "source": [
    "# make a prediction\n",
    "prediction_LAR_test = model_LAR.predict(X_test)\n",
    "prediction_LAR_train = model_LAR.predict(X_train)\n",
    "\n",
    "# print the Mean Squared Error (MSE) on Train Data and compare to the training\n",
    "print(\"Performance on Train Data:\")\n",
    "print(\"Mean Squared Error (MSE) on test \\t:\", mean_squared_error(y_train, prediction_LAR_train))\n",
    "print(\"Explained Variance (R^2) on test \\t:\", model_LAR.score(X_train, y_train))\n",
    "\n",
    "# print the Mean Squared Error (MSE) on Test Data and compare to the training\n",
    "print(\"Performance on Test Data:\")\n",
    "print(\"Mean Squared Error (MSE) on test \\t:\", mean_squared_error(y_test, prediction_LAR_test))\n",
    "print(\"Explained Variance (R^2) on test \\t:\", model_LAR.score(X_test, y_test))"
   ]
  },
  {
   "cell_type": "markdown",
   "metadata": {},
   "source": [
    "### Summary"
   ]
  },
  {
   "cell_type": "code",
   "execution_count": 12,
   "metadata": {
    "scrolled": true
   },
   "outputs": [
    {
     "name": "stdout",
     "output_type": "stream",
     "text": [
      "Prediction performance --- Linear Regression Model:\n",
      "Performance on Train Data:\n",
      "Mean Squared Error (MSE) on test \t: 1.3527436007576856\n",
      "Explained Variance (R^2) on test \t: 0.6504424086398357\n",
      "Performance on Test Data:\n",
      "Mean Squared Error (MSE) on test \t: 1.731637263684772\n",
      "Explained Variance (R^2) on test \t: 0.6573983547560667\n",
      "\n",
      "Prediction performance --- Ridge Regression Model:\n",
      "Performance on Train Data:\n",
      "Mean Squared Error (MSE) on test \t: 1.3542780891723525\n",
      "Explained Variance (R^2) on test \t: 0.650045887027092\n",
      "Performance on Test Data:\n",
      "Mean Squared Error (MSE) on test \t: 1.7310927088019243\n",
      "Explained Variance (R^2) on test \t: 0.6575060940630808\n",
      "\n",
      "Prediction performance --- LASSO Regression Model:\n",
      "Performance on Train Data:\n",
      "Mean Squared Error (MSE) on test \t: 2.0261168284094127\n",
      "Explained Variance (R^2) on test \t: 0.47643846331529893\n",
      "Performance on Test Data:\n",
      "Mean Squared Error (MSE) on test \t: 2.547596559934137\n",
      "Explained Variance (R^2) on test \t: 0.49596212142377016\n"
     ]
    }
   ],
   "source": [
    "print(\"Prediction performance --- Linear Regression Model:\")\n",
    "# print the Mean Squared Error (MSE) on Train Data and compare to the training\n",
    "print(\"Performance on Train Data:\")\n",
    "print(\"Mean Squared Error (MSE) on test \\t:\", mean_squared_error(y_train, prediction_LR_train))\n",
    "print(\"Explained Variance (R^2) on test \\t:\", model_LR.score(X_train, y_train))\n",
    "\n",
    "# print the Mean Squared Error (MSE) on Test Data and compare to the training\n",
    "print(\"Performance on Test Data:\")\n",
    "print(\"Mean Squared Error (MSE) on test \\t:\", mean_squared_error(y_test, prediction_LR_test))\n",
    "print(\"Explained Variance (R^2) on test \\t:\", model_LR.score(X_test, y_test))\n",
    "\n",
    "print()\n",
    "\n",
    "print(\"Prediction performance --- Ridge Regression Model:\")\n",
    "# print the Mean Squared Error (MSE) on Train Data and compare to the training\n",
    "print(\"Performance on Train Data:\")\n",
    "print(\"Mean Squared Error (MSE) on test \\t:\", mean_squared_error(y_train, prediction_RR_train))\n",
    "print(\"Explained Variance (R^2) on test \\t:\", model_RR.score(X_train, y_train))\n",
    "\n",
    "# print the Mean Squared Error (MSE) on Test Data and compare to the training\n",
    "print(\"Performance on Test Data:\")\n",
    "print(\"Mean Squared Error (MSE) on test \\t:\", mean_squared_error(y_test, prediction_RR_test))\n",
    "print(\"Explained Variance (R^2) on test \\t:\", model_RR.score(X_test, y_test))\n",
    "\n",
    "print()\n",
    "\n",
    "print(\"Prediction performance --- LASSO Regression Model:\")\n",
    "# print the Mean Squared Error (MSE) on Train Data and compare to the training\n",
    "print(\"Performance on Train Data:\")\n",
    "print(\"Mean Squared Error (MSE) on test \\t:\", mean_squared_error(y_train, prediction_LAR_train))\n",
    "print(\"Explained Variance (R^2) on test \\t:\", model_LAR.score(X_train, y_train))\n",
    "\n",
    "# print the Mean Squared Error (MSE) on Test Data and compare to the training\n",
    "print(\"Performance on Test Data:\")\n",
    "print(\"Mean Squared Error (MSE) on test \\t:\", mean_squared_error(y_test, prediction_LAR_test))\n",
    "print(\"Explained Variance (R^2) on test \\t:\", model_LAR.score(X_test, y_test))"
   ]
  },
  {
   "cell_type": "markdown",
   "metadata": {},
   "source": [
    "### <font color=green> According to the above results, we find the <font size=5>Ridge Regression Model</font> most useful in our case. And we will use this model for prediction use. </font>"
   ]
  },
  {
   "cell_type": "code",
   "execution_count": null,
   "metadata": {},
   "outputs": [],
   "source": []
  },
  {
   "cell_type": "code",
   "execution_count": null,
   "metadata": {},
   "outputs": [],
   "source": []
  }
 ],
 "metadata": {
  "kernelspec": {
   "display_name": "Python 3",
   "language": "python",
   "name": "python3"
  },
  "language_info": {
   "codemirror_mode": {
    "name": "ipython",
    "version": 3
   },
   "file_extension": ".py",
   "mimetype": "text/x-python",
   "name": "python",
   "nbconvert_exporter": "python",
   "pygments_lexer": "ipython3",
   "version": "3.8.5"
  }
 },
 "nbformat": 4,
 "nbformat_minor": 4
}
