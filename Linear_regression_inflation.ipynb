{
 "cells": [
  {
   "cell_type": "code",
   "execution_count": 1,
   "metadata": {},
   "outputs": [
    {
     "data": {
      "text/html": [
       "<div>\n",
       "<style scoped>\n",
       "    .dataframe tbody tr th:only-of-type {\n",
       "        vertical-align: middle;\n",
       "    }\n",
       "\n",
       "    .dataframe tbody tr th {\n",
       "        vertical-align: top;\n",
       "    }\n",
       "\n",
       "    .dataframe thead th {\n",
       "        text-align: right;\n",
       "    }\n",
       "</style>\n",
       "<table border=\"1\" class=\"dataframe\">\n",
       "  <thead>\n",
       "    <tr style=\"text-align: right;\">\n",
       "      <th></th>\n",
       "      <th>runtime</th>\n",
       "      <th>vote_average</th>\n",
       "      <th>release_month</th>\n",
       "      <th>Comedy</th>\n",
       "      <th>Crime</th>\n",
       "      <th>Drama</th>\n",
       "      <th>Action</th>\n",
       "      <th>Thriller</th>\n",
       "      <th>Romance</th>\n",
       "      <th>Adventure</th>\n",
       "      <th>...</th>\n",
       "      <th>Empty</th>\n",
       "      <th>TVMovie</th>\n",
       "      <th>Foreign</th>\n",
       "      <th>PC_class</th>\n",
       "      <th>log_raw_budget</th>\n",
       "      <th>log_raw_revenue</th>\n",
       "      <th>log_budget</th>\n",
       "      <th>log_revenue</th>\n",
       "      <th>log_popularity</th>\n",
       "      <th>log_vote_count</th>\n",
       "    </tr>\n",
       "  </thead>\n",
       "  <tbody>\n",
       "    <tr>\n",
       "      <th>0</th>\n",
       "      <td>105.0</td>\n",
       "      <td>8.2</td>\n",
       "      <td>5</td>\n",
       "      <td>1</td>\n",
       "      <td>1</td>\n",
       "      <td>0</td>\n",
       "      <td>0</td>\n",
       "      <td>0</td>\n",
       "      <td>0</td>\n",
       "      <td>0</td>\n",
       "      <td>...</td>\n",
       "      <td>0</td>\n",
       "      <td>0</td>\n",
       "      <td>0</td>\n",
       "      <td>2</td>\n",
       "      <td>14.616391</td>\n",
       "      <td>17.661131</td>\n",
       "      <td>14.616391</td>\n",
       "      <td>17.661131</td>\n",
       "      <td>2.289601</td>\n",
       "      <td>8.460199</td>\n",
       "    </tr>\n",
       "    <tr>\n",
       "      <th>1</th>\n",
       "      <td>111.0</td>\n",
       "      <td>8.3</td>\n",
       "      <td>9</td>\n",
       "      <td>0</td>\n",
       "      <td>1</td>\n",
       "      <td>1</td>\n",
       "      <td>1</td>\n",
       "      <td>0</td>\n",
       "      <td>0</td>\n",
       "      <td>0</td>\n",
       "      <td>...</td>\n",
       "      <td>0</td>\n",
       "      <td>0</td>\n",
       "      <td>0</td>\n",
       "      <td>3</td>\n",
       "      <td>17.181426</td>\n",
       "      <td>18.221813</td>\n",
       "      <td>17.181426</td>\n",
       "      <td>18.221813</td>\n",
       "      <td>3.572093</td>\n",
       "      <td>9.278279</td>\n",
       "    </tr>\n",
       "    <tr>\n",
       "      <th>2</th>\n",
       "      <td>81.0</td>\n",
       "      <td>7.3</td>\n",
       "      <td>3</td>\n",
       "      <td>0</td>\n",
       "      <td>0</td>\n",
       "      <td>1</td>\n",
       "      <td>1</td>\n",
       "      <td>1</td>\n",
       "      <td>0</td>\n",
       "      <td>0</td>\n",
       "      <td>...</td>\n",
       "      <td>0</td>\n",
       "      <td>0</td>\n",
       "      <td>0</td>\n",
       "      <td>3</td>\n",
       "      <td>14.741554</td>\n",
       "      <td>16.299710</td>\n",
       "      <td>14.741554</td>\n",
       "      <td>16.299710</td>\n",
       "      <td>2.411977</td>\n",
       "      <td>7.303843</td>\n",
       "    </tr>\n",
       "    <tr>\n",
       "      <th>3</th>\n",
       "      <td>104.0</td>\n",
       "      <td>7.8</td>\n",
       "      <td>1</td>\n",
       "      <td>1</td>\n",
       "      <td>1</td>\n",
       "      <td>0</td>\n",
       "      <td>0</td>\n",
       "      <td>0</td>\n",
       "      <td>0</td>\n",
       "      <td>0</td>\n",
       "      <td>...</td>\n",
       "      <td>0</td>\n",
       "      <td>0</td>\n",
       "      <td>0</td>\n",
       "      <td>1</td>\n",
       "      <td>16.562782</td>\n",
       "      <td>18.685736</td>\n",
       "      <td>16.562782</td>\n",
       "      <td>18.685736</td>\n",
       "      <td>2.897458</td>\n",
       "      <td>8.782630</td>\n",
       "    </tr>\n",
       "    <tr>\n",
       "      <th>4</th>\n",
       "      <td>119.0</td>\n",
       "      <td>7.4</td>\n",
       "      <td>3</td>\n",
       "      <td>1</td>\n",
       "      <td>0</td>\n",
       "      <td>0</td>\n",
       "      <td>0</td>\n",
       "      <td>0</td>\n",
       "      <td>1</td>\n",
       "      <td>0</td>\n",
       "      <td>...</td>\n",
       "      <td>0</td>\n",
       "      <td>0</td>\n",
       "      <td>0</td>\n",
       "      <td>1</td>\n",
       "      <td>17.172408</td>\n",
       "      <td>20.671077</td>\n",
       "      <td>17.172408</td>\n",
       "      <td>20.671077</td>\n",
       "      <td>3.953932</td>\n",
       "      <td>8.633375</td>\n",
       "    </tr>\n",
       "  </tbody>\n",
       "</table>\n",
       "<p>5 rows × 31 columns</p>\n",
       "</div>"
      ],
      "text/plain": [
       "   runtime  vote_average  release_month  Comedy  Crime  Drama  Action  \\\n",
       "0    105.0           8.2              5       1      1      0       0   \n",
       "1    111.0           8.3              9       0      1      1       1   \n",
       "2     81.0           7.3              3       0      0      1       1   \n",
       "3    104.0           7.8              1       1      1      0       0   \n",
       "4    119.0           7.4              3       1      0      0       0   \n",
       "\n",
       "   Thriller  Romance  Adventure  ...  Empty  TVMovie  Foreign  PC_class  \\\n",
       "0         0        0          0  ...      0        0        0         2   \n",
       "1         0        0          0  ...      0        0        0         3   \n",
       "2         1        0          0  ...      0        0        0         3   \n",
       "3         0        0          0  ...      0        0        0         1   \n",
       "4         0        1          0  ...      0        0        0         1   \n",
       "\n",
       "   log_raw_budget  log_raw_revenue  log_budget  log_revenue  log_popularity  \\\n",
       "0       14.616391        17.661131   14.616391    17.661131        2.289601   \n",
       "1       17.181426        18.221813   17.181426    18.221813        3.572093   \n",
       "2       14.741554        16.299710   14.741554    16.299710        2.411977   \n",
       "3       16.562782        18.685736   16.562782    18.685736        2.897458   \n",
       "4       17.172408        20.671077   17.172408    20.671077        3.953932   \n",
       "\n",
       "   log_vote_count  \n",
       "0        8.460199  \n",
       "1        9.278279  \n",
       "2        7.303843  \n",
       "3        8.782630  \n",
       "4        8.633375  \n",
       "\n",
       "[5 rows x 31 columns]"
      ]
     },
     "execution_count": 1,
     "metadata": {},
     "output_type": "execute_result"
    }
   ],
   "source": [
    "import numpy as np\n",
    "import pandas as pd\n",
    "\n",
    "# load data\n",
    "data = pd.read_csv(\"movie_data.csv\")\n",
    "data.head()"
   ]
  },
  {
   "cell_type": "code",
   "execution_count": 2,
   "metadata": {
    "scrolled": true
   },
   "outputs": [
    {
     "name": "stdout",
     "output_type": "stream",
     "text": [
      "<class 'pandas.core.frame.DataFrame'>\n",
      "RangeIndex: 4473 entries, 0 to 4472\n",
      "Data columns (total 31 columns):\n",
      " #   Column           Non-Null Count  Dtype  \n",
      "---  ------           --------------  -----  \n",
      " 0   runtime          4473 non-null   float64\n",
      " 1   vote_average     4473 non-null   float64\n",
      " 2   release_month    4473 non-null   int64  \n",
      " 3   Comedy           4473 non-null   int64  \n",
      " 4   Crime            4473 non-null   int64  \n",
      " 5   Drama            4473 non-null   int64  \n",
      " 6   Action           4473 non-null   int64  \n",
      " 7   Thriller         4473 non-null   int64  \n",
      " 8   Romance          4473 non-null   int64  \n",
      " 9   Adventure        4473 non-null   int64  \n",
      " 10  Family           4473 non-null   int64  \n",
      " 11  Fantasy          4473 non-null   int64  \n",
      " 12  Animation        4473 non-null   int64  \n",
      " 13  Mystery          4473 non-null   int64  \n",
      " 14  ScienceFiction   4473 non-null   int64  \n",
      " 15  Horror           4473 non-null   int64  \n",
      " 16  History          4473 non-null   int64  \n",
      " 17  War              4473 non-null   int64  \n",
      " 18  Music            4473 non-null   int64  \n",
      " 19  Documentary      4473 non-null   int64  \n",
      " 20  Western          4473 non-null   int64  \n",
      " 21  Empty            4473 non-null   int64  \n",
      " 22  TVMovie          4473 non-null   int64  \n",
      " 23  Foreign          4473 non-null   int64  \n",
      " 24  PC_class         4473 non-null   int64  \n",
      " 25  log_raw_budget   4473 non-null   float64\n",
      " 26  log_raw_revenue  4473 non-null   float64\n",
      " 27  log_budget       4473 non-null   float64\n",
      " 28  log_revenue      4473 non-null   float64\n",
      " 29  log_popularity   4473 non-null   float64\n",
      " 30  log_vote_count   4473 non-null   float64\n",
      "dtypes: float64(8), int64(23)\n",
      "memory usage: 1.1 MB\n"
     ]
    }
   ],
   "source": [
    "# show information of data\n",
    "data.info()"
   ]
  },
  {
   "cell_type": "code",
   "execution_count": 3,
   "metadata": {},
   "outputs": [
    {
     "name": "stdout",
     "output_type": "stream",
     "text": [
      "<class 'pandas.core.frame.DataFrame'>\n",
      "RangeIndex: 4473 entries, 0 to 4472\n",
      "Data columns (total 31 columns):\n",
      " #   Column           Non-Null Count  Dtype   \n",
      "---  ------           --------------  -----   \n",
      " 0   runtime          4473 non-null   float64 \n",
      " 1   vote_average     4473 non-null   float64 \n",
      " 2   release_month    4473 non-null   category\n",
      " 3   Comedy           4473 non-null   int64   \n",
      " 4   Crime            4473 non-null   int64   \n",
      " 5   Drama            4473 non-null   int64   \n",
      " 6   Action           4473 non-null   int64   \n",
      " 7   Thriller         4473 non-null   int64   \n",
      " 8   Romance          4473 non-null   int64   \n",
      " 9   Adventure        4473 non-null   int64   \n",
      " 10  Family           4473 non-null   int64   \n",
      " 11  Fantasy          4473 non-null   int64   \n",
      " 12  Animation        4473 non-null   int64   \n",
      " 13  Mystery          4473 non-null   int64   \n",
      " 14  ScienceFiction   4473 non-null   int64   \n",
      " 15  Horror           4473 non-null   int64   \n",
      " 16  History          4473 non-null   int64   \n",
      " 17  War              4473 non-null   int64   \n",
      " 18  Music            4473 non-null   int64   \n",
      " 19  Documentary      4473 non-null   int64   \n",
      " 20  Western          4473 non-null   int64   \n",
      " 21  Empty            4473 non-null   int64   \n",
      " 22  TVMovie          4473 non-null   int64   \n",
      " 23  Foreign          4473 non-null   int64   \n",
      " 24  PC_class         4473 non-null   category\n",
      " 25  log_raw_budget   4473 non-null   float64 \n",
      " 26  log_raw_revenue  4473 non-null   float64 \n",
      " 27  log_budget       4473 non-null   float64 \n",
      " 28  log_revenue      4473 non-null   float64 \n",
      " 29  log_popularity   4473 non-null   float64 \n",
      " 30  log_vote_count   4473 non-null   float64 \n",
      "dtypes: category(2), float64(8), int64(21)\n",
      "memory usage: 1022.8 KB\n"
     ]
    }
   ],
   "source": [
    "# convert numeric data into categorical data\n",
    "data['release_month']=data['release_month'].astype(\"category\")\n",
    "data['PC_class']=data['PC_class'].astype(\"category\")\n",
    "\n",
    "# show information\n",
    "data.info()"
   ]
  },
  {
   "cell_type": "code",
   "execution_count": 4,
   "metadata": {},
   "outputs": [
    {
     "data": {
      "text/plain": [
       "Index(['runtime', 'vote_average', 'release_month', 'Comedy', 'Crime', 'Drama',\n",
       "       'Action', 'Thriller', 'Romance', 'Adventure', 'Family', 'Fantasy',\n",
       "       'Animation', 'Mystery', 'ScienceFiction', 'Horror', 'History', 'War',\n",
       "       'Music', 'Documentary', 'Western', 'Empty', 'TVMovie', 'Foreign',\n",
       "       'PC_class', 'log_raw_budget', 'log_raw_revenue', 'log_budget',\n",
       "       'log_revenue', 'log_popularity', 'log_vote_count'],\n",
       "      dtype='object')"
      ]
     },
     "execution_count": 4,
     "metadata": {},
     "output_type": "execute_result"
    }
   ],
   "source": [
    "data.columns"
   ]
  },
  {
   "cell_type": "markdown",
   "metadata": {},
   "source": [
    "## Analyse raw data (before considering inflation)"
   ]
  },
  {
   "cell_type": "code",
   "execution_count": 5,
   "metadata": {},
   "outputs": [],
   "source": [
    "# set inputs\n",
    "X_raw = pd.concat([data['runtime'],data['vote_average'],data['release_month'],data['Comedy'],data['Crime'],data['Drama'],data['Action'],data['Thriller']\n",
    "    ,data['Romance'],data['Adventure'],data['Family'],data['ScienceFiction'],data['Fantasy'],data['Horror'],\n",
    "    data['Mystery'],data['Animation'],data['History'],data['War'],data['Music'],data['Western'],data['Documentary'],data['Empty'],data['TVMovie'],data['Foreign'],\n",
    "              data['PC_class'],data['log_raw_budget'],data['log_popularity'],data['log_vote_count']],axis=1)\n",
    "# set target value\n",
    "Y_raw = data['log_raw_revenue']"
   ]
  },
  {
   "cell_type": "code",
   "execution_count": 6,
   "metadata": {
    "scrolled": true
   },
   "outputs": [],
   "source": [
    "from sklearn.model_selection import train_test_split\n",
    "\n",
    "#split data into train dataset and test data set randomly\n",
    "X_train, X_test, y_train, y_test = train_test_split(X_raw, Y_raw, test_size=0.4)"
   ]
  },
  {
   "cell_type": "markdown",
   "metadata": {},
   "source": [
    "####  Build 3 different models and see which one performs best.<br><br>1. Linear Regression Model <br>2. Ridge Regression Model  <br>3. LASSO Regression Model"
   ]
  },
  {
   "cell_type": "markdown",
   "metadata": {},
   "source": [
    "### Linear Regression Model"
   ]
  },
  {
   "cell_type": "code",
   "execution_count": 7,
   "metadata": {},
   "outputs": [
    {
     "name": "stdout",
     "output_type": "stream",
     "text": [
      "                Coefficient\n",
      "runtime            0.011714\n",
      "vote_average       0.113151\n",
      "release_month     -0.008376\n",
      "Comedy             0.074644\n",
      "Crime             -0.132579\n",
      "Drama             -0.395643\n",
      "Action             0.086521\n",
      "Thriller          -0.163068\n",
      "Romance            0.124741\n",
      "Adventure         -0.055778\n",
      "Family             0.251615\n",
      "ScienceFiction    -0.506563\n",
      "Fantasy           -0.228151\n",
      "Horror             0.140871\n",
      "Mystery            0.030611\n",
      "Animation          0.092130\n",
      "History           -0.107223\n",
      "War               -0.132596\n",
      "Music              0.379866\n",
      "Western           -0.813522\n",
      "Documentary        0.659873\n",
      "Empty              2.411968\n",
      "TVMovie            3.353707\n",
      "Foreign           -0.866352\n",
      "PC_class          -0.122550\n",
      "log_raw_budget     0.604932\n",
      "log_popularity    -0.020842\n",
      "log_vote_count     0.510595\n"
     ]
    }
   ],
   "source": [
    "from sklearn.linear_model import LinearRegression\n",
    "\n",
    "# build model\n",
    "model_LR = LinearRegression()\n",
    "\n",
    "# fit model\n",
    "model_LR.fit(X_train,y_train)\n",
    "\n",
    "# print the coefficients\n",
    "coeff_parameter = pd.DataFrame(model_LR.coef_,X_raw.columns,columns=['Coefficient'])\n",
    "print(coeff_parameter)"
   ]
  },
  {
   "cell_type": "code",
   "execution_count": 8,
   "metadata": {
    "scrolled": true
   },
   "outputs": [
    {
     "name": "stdout",
     "output_type": "stream",
     "text": [
      "Performance on Train Data:\n",
      "Mean Squared Error (MSE) on test \t: 1.4785014202397526\n",
      "Explained Variance (R^2) on test \t: 0.6559808803150677\n",
      "Performance on Test Data:\n",
      "Mean Squared Error (MSE) on test \t: 1.5503369337000996\n",
      "Explained Variance (R^2) on test \t: 0.6498023736247103\n"
     ]
    }
   ],
   "source": [
    "# make a prediction\n",
    "prediction_LR_test = model_LR.predict(X_test)\n",
    "prediction_LR_train = model_LR.predict(X_train)\n",
    "\n",
    "from sklearn.metrics import mean_squared_error\n",
    "\n",
    "# print the Mean Squared Error (MSE) on Train Data and compare to the training\n",
    "print(\"Performance on Train Data:\")\n",
    "print(\"Mean Squared Error (MSE) on test \\t:\", mean_squared_error(y_train, prediction_LR_train))\n",
    "print(\"Explained Variance (R^2) on test \\t:\", model_LR.score(X_train, y_train))\n",
    "\n",
    "# print the Mean Squared Error (MSE) on Test Data and compare to the training\n",
    "print(\"Performance on Test Data:\")\n",
    "print(\"Mean Squared Error (MSE) on test \\t:\", mean_squared_error(y_test, prediction_LR_test))\n",
    "print(\"Explained Variance (R^2) on test \\t:\", model_LR.score(X_test, y_test))"
   ]
  },
  {
   "cell_type": "markdown",
   "metadata": {},
   "source": [
    "### Ridge Regression Model"
   ]
  },
  {
   "cell_type": "code",
   "execution_count": 9,
   "metadata": {},
   "outputs": [
    {
     "name": "stdout",
     "output_type": "stream",
     "text": [
      "                Coefficient\n",
      "runtime            0.011648\n",
      "vote_average       0.114443\n",
      "release_month     -0.008245\n",
      "Comedy             0.069601\n",
      "Crime             -0.133742\n",
      "Drama             -0.399786\n",
      "Action             0.082218\n",
      "Thriller          -0.165888\n",
      "Romance            0.121364\n",
      "Adventure         -0.050561\n",
      "Family             0.247263\n",
      "ScienceFiction    -0.502487\n",
      "Fantasy           -0.228808\n",
      "Horror             0.134825\n",
      "Mystery            0.029393\n",
      "Animation          0.085456\n",
      "History           -0.108768\n",
      "War               -0.133075\n",
      "Music              0.375073\n",
      "Western           -0.790767\n",
      "Documentary        0.620798\n",
      "Empty              1.992778\n",
      "TVMovie            2.222572\n",
      "Foreign           -0.649335\n",
      "PC_class          -0.121487\n",
      "log_raw_budget     0.604870\n",
      "log_popularity    -0.019215\n",
      "log_vote_count     0.507640\n"
     ]
    }
   ],
   "source": [
    "from sklearn.linear_model import Ridge\n",
    "\n",
    "# define model\n",
    "model_RR = Ridge(alpha=1.0)\n",
    "\n",
    "# fit model\n",
    "model_RR.fit(X_train, y_train)\n",
    "\n",
    "# print the coefficients\n",
    "coeff_parameter = pd.DataFrame(model_RR.coef_,X_raw.columns,columns=['Coefficient'])\n",
    "print(coeff_parameter)"
   ]
  },
  {
   "cell_type": "code",
   "execution_count": 10,
   "metadata": {},
   "outputs": [
    {
     "name": "stdout",
     "output_type": "stream",
     "text": [
      "Performance on Train Data:\n",
      "Mean Squared Error (MSE) on test \t: 1.4798205263623987\n",
      "Explained Variance (R^2) on test \t: 0.6556739494451533\n",
      "Performance on Test Data:\n",
      "Mean Squared Error (MSE) on test \t: 1.548235532742388\n",
      "Explained Variance (R^2) on test \t: 0.6502770482657234\n"
     ]
    }
   ],
   "source": [
    "# make a prediction\n",
    "prediction_RR_test = model_RR.predict(X_test)\n",
    "prediction_RR_train = model_RR.predict(X_train)\n",
    "\n",
    "# print the Mean Squared Error (MSE) on Train Data and compare to the training\n",
    "print(\"Performance on Train Data:\")\n",
    "print(\"Mean Squared Error (MSE) on test \\t:\", mean_squared_error(y_train, prediction_RR_train))\n",
    "print(\"Explained Variance (R^2) on test \\t:\", model_RR.score(X_train, y_train))\n",
    "\n",
    "# print the Mean Squared Error (MSE) on Test Data and compare to the training\n",
    "print(\"Performance on Test Data:\")\n",
    "print(\"Mean Squared Error (MSE) on test \\t:\", mean_squared_error(y_test, prediction_RR_test))\n",
    "print(\"Explained Variance (R^2) on test \\t:\", model_RR.score(X_test, y_test))"
   ]
  },
  {
   "cell_type": "markdown",
   "metadata": {},
   "source": [
    "### LASSO Regression Model"
   ]
  },
  {
   "cell_type": "code",
   "execution_count": 11,
   "metadata": {},
   "outputs": [
    {
     "name": "stdout",
     "output_type": "stream",
     "text": [
      "                Coefficient\n",
      "runtime            0.012261\n",
      "vote_average       0.000000\n",
      "release_month      0.000000\n",
      "Comedy             0.000000\n",
      "Crime             -0.000000\n",
      "Drama             -0.000000\n",
      "Action             0.000000\n",
      "Thriller          -0.000000\n",
      "Romance           -0.000000\n",
      "Adventure          0.000000\n",
      "Family             0.000000\n",
      "ScienceFiction     0.000000\n",
      "Fantasy            0.000000\n",
      "Horror            -0.000000\n",
      "Mystery           -0.000000\n",
      "Animation          0.000000\n",
      "History           -0.000000\n",
      "War               -0.000000\n",
      "Music              0.000000\n",
      "Western           -0.000000\n",
      "Documentary       -0.000000\n",
      "Empty              0.000000\n",
      "TVMovie            0.000000\n",
      "Foreign           -0.000000\n",
      "PC_class          -0.000000\n",
      "log_raw_budget     0.315577\n",
      "log_popularity     0.000000\n",
      "log_vote_count     0.302473\n"
     ]
    }
   ],
   "source": [
    "from sklearn.linear_model import Lasso\n",
    "\n",
    "# define model\n",
    "model_LAR = Lasso(alpha=1.0)\n",
    "\n",
    "# fit model\n",
    "model_LAR.fit(X_train, y_train)\n",
    "\n",
    "# print the coefficients\n",
    "coeff_parameter = pd.DataFrame(model_LAR.coef_,X_raw.columns,columns=['Coefficient'])\n",
    "print(coeff_parameter)"
   ]
  },
  {
   "cell_type": "code",
   "execution_count": 12,
   "metadata": {},
   "outputs": [
    {
     "name": "stdout",
     "output_type": "stream",
     "text": [
      "Performance on Train Data:\n",
      "Mean Squared Error (MSE) on test \t: 2.1298056577783036\n",
      "Explained Variance (R^2) on test \t: 0.5044347895384049\n",
      "Performance on Test Data:\n",
      "Mean Squared Error (MSE) on test \t: 2.108526135579261\n",
      "Explained Variance (R^2) on test \t: 0.5237158892500737\n"
     ]
    }
   ],
   "source": [
    "# make a prediction\n",
    "prediction_LAR_test = model_LAR.predict(X_test)\n",
    "prediction_LAR_train = model_LAR.predict(X_train)\n",
    "\n",
    "# print the Mean Squared Error (MSE) on Train Data and compare to the training\n",
    "print(\"Performance on Train Data:\")\n",
    "print(\"Mean Squared Error (MSE) on test \\t:\", mean_squared_error(y_train, prediction_LAR_train))\n",
    "print(\"Explained Variance (R^2) on test \\t:\", model_LAR.score(X_train, y_train))\n",
    "\n",
    "# print the Mean Squared Error (MSE) on Test Data and compare to the training\n",
    "print(\"Performance on Test Data:\")\n",
    "print(\"Mean Squared Error (MSE) on test \\t:\", mean_squared_error(y_test, prediction_LAR_test))\n",
    "print(\"Explained Variance (R^2) on test \\t:\", model_LAR.score(X_test, y_test))"
   ]
  },
  {
   "cell_type": "markdown",
   "metadata": {},
   "source": [
    "### Summary"
   ]
  },
  {
   "cell_type": "code",
   "execution_count": 13,
   "metadata": {
    "scrolled": false
   },
   "outputs": [
    {
     "name": "stdout",
     "output_type": "stream",
     "text": [
      "Prediction performance --- Linear Regression Model:\n",
      "Performance on Train Data:\n",
      "Mean Squared Error (MSE) on test \t: 1.4785014202397526\n",
      "Explained Variance (R^2) on test \t: 0.6559808803150677\n",
      "Performance on Test Data:\n",
      "Mean Squared Error (MSE) on test \t: 1.5503369337000996\n",
      "Explained Variance (R^2) on test \t: 0.6498023736247103\n",
      "\n",
      "Prediction performance --- Ridge Regression Model:\n",
      "Performance on Train Data:\n",
      "Mean Squared Error (MSE) on test \t: 1.4798205263623987\n",
      "Explained Variance (R^2) on test \t: 0.6556739494451533\n",
      "Performance on Test Data:\n",
      "Mean Squared Error (MSE) on test \t: 1.548235532742388\n",
      "Explained Variance (R^2) on test \t: 0.6502770482657234\n",
      "\n",
      "Prediction performance --- LASSO Regression Model:\n",
      "Performance on Train Data:\n",
      "Mean Squared Error (MSE) on test \t: 2.1298056577783036\n",
      "Explained Variance (R^2) on test \t: 0.5044347895384049\n",
      "Performance on Test Data:\n",
      "Mean Squared Error (MSE) on test \t: 2.108526135579261\n",
      "Explained Variance (R^2) on test \t: 0.5237158892500737\n"
     ]
    }
   ],
   "source": [
    "print(\"Prediction performance --- Linear Regression Model:\")\n",
    "# print the Mean Squared Error (MSE) on Train Data and compare to the training\n",
    "print(\"Performance on Train Data:\")\n",
    "print(\"Mean Squared Error (MSE) on test \\t:\", mean_squared_error(y_train, prediction_LR_train))\n",
    "print(\"Explained Variance (R^2) on test \\t:\", model_LR.score(X_train, y_train))\n",
    "\n",
    "# print the Mean Squared Error (MSE) on Test Data and compare to the training\n",
    "print(\"Performance on Test Data:\")\n",
    "print(\"Mean Squared Error (MSE) on test \\t:\", mean_squared_error(y_test, prediction_LR_test))\n",
    "print(\"Explained Variance (R^2) on test \\t:\", model_LR.score(X_test, y_test))\n",
    "\n",
    "print()\n",
    "\n",
    "print(\"Prediction performance --- Ridge Regression Model:\")\n",
    "# print the Mean Squared Error (MSE) on Train Data and compare to the training\n",
    "print(\"Performance on Train Data:\")\n",
    "print(\"Mean Squared Error (MSE) on test \\t:\", mean_squared_error(y_train, prediction_RR_train))\n",
    "print(\"Explained Variance (R^2) on test \\t:\", model_RR.score(X_train, y_train))\n",
    "\n",
    "# print the Mean Squared Error (MSE) on Test Data and compare to the training\n",
    "print(\"Performance on Test Data:\")\n",
    "print(\"Mean Squared Error (MSE) on test \\t:\", mean_squared_error(y_test, prediction_RR_test))\n",
    "print(\"Explained Variance (R^2) on test \\t:\", model_RR.score(X_test, y_test))\n",
    "\n",
    "print()\n",
    "\n",
    "print(\"Prediction performance --- LASSO Regression Model:\")\n",
    "# print the Mean Squared Error (MSE) on Train Data and compare to the training\n",
    "print(\"Performance on Train Data:\")\n",
    "print(\"Mean Squared Error (MSE) on test \\t:\", mean_squared_error(y_train, prediction_LAR_train))\n",
    "print(\"Explained Variance (R^2) on test \\t:\", model_LAR.score(X_train, y_train))\n",
    "\n",
    "# print the Mean Squared Error (MSE) on Test Data and compare to the training\n",
    "print(\"Performance on Test Data:\")\n",
    "print(\"Mean Squared Error (MSE) on test \\t:\", mean_squared_error(y_test, prediction_LAR_test))\n",
    "print(\"Explained Variance (R^2) on test \\t:\", model_LAR.score(X_test, y_test))"
   ]
  },
  {
   "cell_type": "markdown",
   "metadata": {},
   "source": [
    "## Analyse modified data (after considering inflation)"
   ]
  },
  {
   "cell_type": "code",
   "execution_count": 14,
   "metadata": {},
   "outputs": [],
   "source": [
    "# set inputs\n",
    "X = pd.concat([data['runtime'],data['vote_average'],data['release_month'],data['Comedy'],data['Crime'],data['Drama'],data['Action'],data['Thriller']\n",
    "    ,data['Romance'],data['Adventure'],data['Family'],data['ScienceFiction'],data['Fantasy'],data['Horror'],\n",
    "    data['Mystery'],data['Animation'],data['History'],data['War'],data['Music'],data['Western'],data['Documentary'],data['Empty'],data['TVMovie'],data['Foreign'],\n",
    "              data['PC_class'],data['log_budget'],data['log_popularity'],data['log_vote_count']],axis=1)\n",
    "# set target value\n",
    "Y = data['log_revenue']"
   ]
  },
  {
   "cell_type": "code",
   "execution_count": 15,
   "metadata": {
    "scrolled": true
   },
   "outputs": [],
   "source": [
    "from sklearn.model_selection import train_test_split\n",
    "\n",
    "#split data into train dataset and test data set randomly\n",
    "X_train, X_test, y_train, y_test = train_test_split(X, Y, test_size=0.4)"
   ]
  },
  {
   "cell_type": "markdown",
   "metadata": {},
   "source": [
    "####  Build 3 different models and see which one performs best.<br><br>1. Linear Regression Model <br>2. Ridge Regression Model  <br>3. LASSO Regression Model"
   ]
  },
  {
   "cell_type": "markdown",
   "metadata": {},
   "source": [
    "### Linear Regression Model"
   ]
  },
  {
   "cell_type": "code",
   "execution_count": 16,
   "metadata": {},
   "outputs": [
    {
     "name": "stdout",
     "output_type": "stream",
     "text": [
      "                 Coefficient\n",
      "runtime         1.310675e-02\n",
      "vote_average    3.395054e-02\n",
      "release_month   9.821952e-03\n",
      "Comedy          4.754151e-02\n",
      "Crime          -1.581714e-01\n",
      "Drama          -3.182666e-01\n",
      "Action          1.532667e-01\n",
      "Thriller       -7.271397e-02\n",
      "Romance         1.106204e-01\n",
      "Adventure      -7.899049e-02\n",
      "Family          3.552606e-01\n",
      "ScienceFiction -3.948818e-01\n",
      "Fantasy        -2.518204e-01\n",
      "Horror          1.526799e-01\n",
      "Mystery        -9.878795e-02\n",
      "Animation       2.798094e-01\n",
      "History        -1.780453e-01\n",
      "War            -9.675538e-02\n",
      "Music           1.635884e-01\n",
      "Western        -5.582727e-01\n",
      "Documentary     7.994566e-01\n",
      "Empty           1.616918e+00\n",
      "TVMovie         2.220446e-16\n",
      "Foreign        -1.783422e+00\n",
      "PC_class       -1.345477e-01\n",
      "log_budget      5.541187e-01\n",
      "log_popularity -5.563338e-02\n",
      "log_vote_count  5.627907e-01\n"
     ]
    }
   ],
   "source": [
    "from sklearn.linear_model import LinearRegression\n",
    "\n",
    "# build model\n",
    "model_LR = LinearRegression()\n",
    "\n",
    "# fit model\n",
    "model_LR.fit(X_train,y_train)\n",
    "\n",
    "# print the coefficients\n",
    "coeff_parameter = pd.DataFrame(model_LR.coef_,X.columns,columns=['Coefficient'])\n",
    "print(coeff_parameter)"
   ]
  },
  {
   "cell_type": "code",
   "execution_count": 17,
   "metadata": {
    "scrolled": true
   },
   "outputs": [
    {
     "name": "stdout",
     "output_type": "stream",
     "text": [
      "Performance on Train Data:\n",
      "Mean Squared Error (MSE) on test \t: 1.4306589163752332\n",
      "Explained Variance (R^2) on test \t: 0.6702967983078659\n",
      "Performance on Test Data:\n",
      "Mean Squared Error (MSE) on test \t: 1.613239050592868\n",
      "Explained Variance (R^2) on test \t: 0.6304178538832077\n"
     ]
    }
   ],
   "source": [
    "# make a prediction\n",
    "prediction_LR_test = model_LR.predict(X_test)\n",
    "prediction_LR_train = model_LR.predict(X_train)\n",
    "\n",
    "from sklearn.metrics import mean_squared_error\n",
    "\n",
    "# print the Mean Squared Error (MSE) on Train Data and compare to the training\n",
    "print(\"Performance on Train Data:\")\n",
    "print(\"Mean Squared Error (MSE) on test \\t:\", mean_squared_error(y_train, prediction_LR_train))\n",
    "print(\"Explained Variance (R^2) on test \\t:\", model_LR.score(X_train, y_train))\n",
    "\n",
    "# print the Mean Squared Error (MSE) on Test Data and compare to the training\n",
    "print(\"Performance on Test Data:\")\n",
    "print(\"Mean Squared Error (MSE) on test \\t:\", mean_squared_error(y_test, prediction_LR_test))\n",
    "print(\"Explained Variance (R^2) on test \\t:\", model_LR.score(X_test, y_test))"
   ]
  },
  {
   "cell_type": "markdown",
   "metadata": {},
   "source": [
    "### Ridge Regression Model"
   ]
  },
  {
   "cell_type": "code",
   "execution_count": 18,
   "metadata": {},
   "outputs": [
    {
     "name": "stdout",
     "output_type": "stream",
     "text": [
      "                Coefficient\n",
      "runtime            0.013152\n",
      "vote_average       0.034438\n",
      "release_month      0.009750\n",
      "Comedy             0.046832\n",
      "Crime             -0.158419\n",
      "Drama             -0.321477\n",
      "Action             0.149536\n",
      "Thriller          -0.073242\n",
      "Romance            0.107364\n",
      "Adventure         -0.079457\n",
      "Family             0.352535\n",
      "ScienceFiction    -0.393832\n",
      "Fantasy           -0.250735\n",
      "Horror             0.149341\n",
      "Mystery           -0.098690\n",
      "Animation          0.274767\n",
      "History           -0.178177\n",
      "War               -0.096759\n",
      "Music              0.164194\n",
      "Western           -0.540694\n",
      "Documentary        0.764365\n",
      "Empty              1.286013\n",
      "TVMovie            0.000000\n",
      "Foreign           -1.415210\n",
      "PC_class          -0.133328\n",
      "log_budget         0.554996\n",
      "log_popularity    -0.052686\n",
      "log_vote_count     0.561069\n"
     ]
    }
   ],
   "source": [
    "from sklearn.linear_model import Ridge\n",
    "\n",
    "# define model\n",
    "model_RR = Ridge(alpha=1.0)\n",
    "\n",
    "# fit model\n",
    "model_RR.fit(X_train, y_train)\n",
    "\n",
    "# print the coefficients\n",
    "coeff_parameter = pd.DataFrame(model_RR.coef_,X.columns,columns=['Coefficient'])\n",
    "print(coeff_parameter)"
   ]
  },
  {
   "cell_type": "code",
   "execution_count": 19,
   "metadata": {},
   "outputs": [
    {
     "name": "stdout",
     "output_type": "stream",
     "text": [
      "Performance on Train Data:\n",
      "Mean Squared Error (MSE) on test \t: 1.4310267747185526\n",
      "Explained Variance (R^2) on test \t: 0.670212023333081\n",
      "Performance on Test Data:\n",
      "Mean Squared Error (MSE) on test \t: 1.614579494723508\n",
      "Explained Variance (R^2) on test \t: 0.6301107672066426\n"
     ]
    }
   ],
   "source": [
    "# make a prediction\n",
    "prediction_RR_test = model_RR.predict(X_test)\n",
    "prediction_RR_train = model_RR.predict(X_train)\n",
    "\n",
    "# print the Mean Squared Error (MSE) on Train Data and compare to the training\n",
    "print(\"Performance on Train Data:\")\n",
    "print(\"Mean Squared Error (MSE) on test \\t:\", mean_squared_error(y_train, prediction_RR_train))\n",
    "print(\"Explained Variance (R^2) on test \\t:\", model_RR.score(X_train, y_train))\n",
    "\n",
    "# print the Mean Squared Error (MSE) on Test Data and compare to the training\n",
    "print(\"Performance on Test Data:\")\n",
    "print(\"Mean Squared Error (MSE) on test \\t:\", mean_squared_error(y_test, prediction_RR_test))\n",
    "print(\"Explained Variance (R^2) on test \\t:\", model_RR.score(X_test, y_test))"
   ]
  },
  {
   "cell_type": "markdown",
   "metadata": {},
   "source": [
    "### LASSO Regression Model"
   ]
  },
  {
   "cell_type": "code",
   "execution_count": 20,
   "metadata": {},
   "outputs": [
    {
     "name": "stdout",
     "output_type": "stream",
     "text": [
      "                Coefficient\n",
      "runtime            0.012731\n",
      "vote_average       0.000000\n",
      "release_month      0.000000\n",
      "Comedy             0.000000\n",
      "Crime             -0.000000\n",
      "Drama             -0.000000\n",
      "Action             0.000000\n",
      "Thriller          -0.000000\n",
      "Romance           -0.000000\n",
      "Adventure          0.000000\n",
      "Family             0.000000\n",
      "ScienceFiction     0.000000\n",
      "Fantasy            0.000000\n",
      "Horror            -0.000000\n",
      "Mystery           -0.000000\n",
      "Animation          0.000000\n",
      "History           -0.000000\n",
      "War               -0.000000\n",
      "Music              0.000000\n",
      "Western           -0.000000\n",
      "Documentary       -0.000000\n",
      "Empty             -0.000000\n",
      "TVMovie            0.000000\n",
      "Foreign           -0.000000\n",
      "PC_class          -0.000000\n",
      "log_budget         0.325854\n",
      "log_popularity     0.000000\n",
      "log_vote_count     0.314501\n"
     ]
    }
   ],
   "source": [
    "from sklearn.linear_model import Lasso\n",
    "\n",
    "# define model\n",
    "model_LAR = Lasso(alpha=1.0)\n",
    "\n",
    "# fit model\n",
    "model_LAR.fit(X_train, y_train)\n",
    "\n",
    "# print the coefficients\n",
    "coeff_parameter = pd.DataFrame(model_LAR.coef_,X.columns,columns=['Coefficient'])\n",
    "print(coeff_parameter)"
   ]
  },
  {
   "cell_type": "code",
   "execution_count": 21,
   "metadata": {},
   "outputs": [
    {
     "name": "stdout",
     "output_type": "stream",
     "text": [
      "Performance on Train Data:\n",
      "Mean Squared Error (MSE) on test \t: 2.0453877655445587\n",
      "Explained Variance (R^2) on test \t: 0.5286291601141588\n",
      "Performance on Test Data:\n",
      "Mean Squared Error (MSE) on test \t: 2.1216746851453827\n",
      "Explained Variance (R^2) on test \t: 0.5139386917211495\n"
     ]
    }
   ],
   "source": [
    "# make a prediction\n",
    "prediction_LAR_test = model_LAR.predict(X_test)\n",
    "prediction_LAR_train = model_LAR.predict(X_train)\n",
    "\n",
    "# print the Mean Squared Error (MSE) on Train Data and compare to the training\n",
    "print(\"Performance on Train Data:\")\n",
    "print(\"Mean Squared Error (MSE) on test \\t:\", mean_squared_error(y_train, prediction_LAR_train))\n",
    "print(\"Explained Variance (R^2) on test \\t:\", model_LAR.score(X_train, y_train))\n",
    "\n",
    "# print the Mean Squared Error (MSE) on Test Data and compare to the training\n",
    "print(\"Performance on Test Data:\")\n",
    "print(\"Mean Squared Error (MSE) on test \\t:\", mean_squared_error(y_test, prediction_LAR_test))\n",
    "print(\"Explained Variance (R^2) on test \\t:\", model_LAR.score(X_test, y_test))"
   ]
  },
  {
   "cell_type": "markdown",
   "metadata": {},
   "source": [
    "### Summary"
   ]
  },
  {
   "cell_type": "code",
   "execution_count": 22,
   "metadata": {
    "scrolled": false
   },
   "outputs": [
    {
     "name": "stdout",
     "output_type": "stream",
     "text": [
      "Prediction performance --- Linear Regression Model:\n",
      "Performance on Train Data:\n",
      "Mean Squared Error (MSE) on test \t: 1.4306589163752332\n",
      "Explained Variance (R^2) on test \t: 0.6702967983078659\n",
      "Performance on Test Data:\n",
      "Mean Squared Error (MSE) on test \t: 1.613239050592868\n",
      "Explained Variance (R^2) on test \t: 0.6304178538832077\n",
      "\n",
      "Prediction performance --- Ridge Regression Model:\n",
      "Performance on Train Data:\n",
      "Mean Squared Error (MSE) on test \t: 1.4310267747185526\n",
      "Explained Variance (R^2) on test \t: 0.670212023333081\n",
      "Performance on Test Data:\n",
      "Mean Squared Error (MSE) on test \t: 1.614579494723508\n",
      "Explained Variance (R^2) on test \t: 0.6301107672066426\n",
      "\n",
      "Prediction performance --- LASSO Regression Model:\n",
      "Performance on Train Data:\n",
      "Mean Squared Error (MSE) on test \t: 2.0453877655445587\n",
      "Explained Variance (R^2) on test \t: 0.5286291601141588\n",
      "Performance on Test Data:\n",
      "Mean Squared Error (MSE) on test \t: 2.1216746851453827\n",
      "Explained Variance (R^2) on test \t: 0.5139386917211495\n"
     ]
    }
   ],
   "source": [
    "print(\"Prediction performance --- Linear Regression Model:\")\n",
    "# print the Mean Squared Error (MSE) on Train Data and compare to the training\n",
    "print(\"Performance on Train Data:\")\n",
    "print(\"Mean Squared Error (MSE) on test \\t:\", mean_squared_error(y_train, prediction_LR_train))\n",
    "print(\"Explained Variance (R^2) on test \\t:\", model_LR.score(X_train, y_train))\n",
    "\n",
    "# print the Mean Squared Error (MSE) on Test Data and compare to the training\n",
    "print(\"Performance on Test Data:\")\n",
    "print(\"Mean Squared Error (MSE) on test \\t:\", mean_squared_error(y_test, prediction_LR_test))\n",
    "print(\"Explained Variance (R^2) on test \\t:\", model_LR.score(X_test, y_test))\n",
    "\n",
    "print()\n",
    "\n",
    "print(\"Prediction performance --- Ridge Regression Model:\")\n",
    "# print the Mean Squared Error (MSE) on Train Data and compare to the training\n",
    "print(\"Performance on Train Data:\")\n",
    "print(\"Mean Squared Error (MSE) on test \\t:\", mean_squared_error(y_train, prediction_RR_train))\n",
    "print(\"Explained Variance (R^2) on test \\t:\", model_RR.score(X_train, y_train))\n",
    "\n",
    "# print the Mean Squared Error (MSE) on Test Data and compare to the training\n",
    "print(\"Performance on Test Data:\")\n",
    "print(\"Mean Squared Error (MSE) on test \\t:\", mean_squared_error(y_test, prediction_RR_test))\n",
    "print(\"Explained Variance (R^2) on test \\t:\", model_RR.score(X_test, y_test))\n",
    "\n",
    "print()\n",
    "\n",
    "print(\"Prediction performance --- LASSO Regression Model:\")\n",
    "# print the Mean Squared Error (MSE) on Train Data and compare to the training\n",
    "print(\"Performance on Train Data:\")\n",
    "print(\"Mean Squared Error (MSE) on test \\t:\", mean_squared_error(y_train, prediction_LAR_train))\n",
    "print(\"Explained Variance (R^2) on test \\t:\", model_LAR.score(X_train, y_train))\n",
    "\n",
    "# print the Mean Squared Error (MSE) on Test Data and compare to the training\n",
    "print(\"Performance on Test Data:\")\n",
    "print(\"Mean Squared Error (MSE) on test \\t:\", mean_squared_error(y_test, prediction_LAR_test))\n",
    "print(\"Explained Variance (R^2) on test \\t:\", model_LAR.score(X_test, y_test))"
   ]
  },
  {
   "cell_type": "markdown",
   "metadata": {},
   "source": [
    "### <font color=green> According to the above results, we find the <font size=5>Linear Regression Model</font> most useful in our case. And we will use this model for prediction use. </font>"
   ]
  },
  {
   "cell_type": "code",
   "execution_count": null,
   "metadata": {},
   "outputs": [],
   "source": []
  },
  {
   "cell_type": "code",
   "execution_count": null,
   "metadata": {},
   "outputs": [],
   "source": []
  }
 ],
 "metadata": {
  "kernelspec": {
   "display_name": "Python 3",
   "language": "python",
   "name": "python3"
  },
  "language_info": {
   "codemirror_mode": {
    "name": "ipython",
    "version": 3
   },
   "file_extension": ".py",
   "mimetype": "text/x-python",
   "name": "python",
   "nbconvert_exporter": "python",
   "pygments_lexer": "ipython3",
   "version": "3.8.5"
  }
 },
 "nbformat": 4,
 "nbformat_minor": 4
}
